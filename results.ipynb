{
 "cells": [
  {
   "cell_type": "code",
   "execution_count": 46,
   "metadata": {},
   "outputs": [],
   "source": [
    "import numpy as np\n",
    "import matplotlib.pyplot as plt\n",
    "import pandas as pd\n",
    "import yaml\n",
    "import sklearn\n",
    "import torch\n",
    "import torch.nn as nn\n",
    "import torch.nn.functional as F\n",
    "from torch.nn.functional import interpolate"
   ]
  },
  {
   "cell_type": "code",
   "execution_count": 47,
   "metadata": {},
   "outputs": [],
   "source": [
    "train_eeg1_df = pd.read_csv('./raw/train_eeg1.csv')\n",
    "train_eeg2_df = pd.read_csv('./raw/train_eeg2.csv')\n",
    "train_emg_df = pd.read_csv('./raw/train_emg.csv')\n",
    "y_train_df = pd.read_csv('./raw/train_labels.csv')"
   ]
  },
  {
   "cell_type": "code",
   "execution_count": 48,
   "metadata": {},
   "outputs": [
    {
     "data": {
      "text/html": [
       "<div>\n",
       "<style scoped>\n",
       "    .dataframe tbody tr th:only-of-type {\n",
       "        vertical-align: middle;\n",
       "    }\n",
       "\n",
       "    .dataframe tbody tr th {\n",
       "        vertical-align: top;\n",
       "    }\n",
       "\n",
       "    .dataframe thead th {\n",
       "        text-align: right;\n",
       "    }\n",
       "</style>\n",
       "<table border=\"1\" class=\"dataframe\">\n",
       "  <thead>\n",
       "    <tr style=\"text-align: right;\">\n",
       "      <th></th>\n",
       "      <th>Id</th>\n",
       "      <th>x1</th>\n",
       "      <th>x2</th>\n",
       "      <th>x3</th>\n",
       "      <th>x4</th>\n",
       "      <th>x5</th>\n",
       "      <th>x6</th>\n",
       "      <th>x7</th>\n",
       "      <th>x8</th>\n",
       "      <th>x9</th>\n",
       "      <th>...</th>\n",
       "      <th>x503</th>\n",
       "      <th>x504</th>\n",
       "      <th>x505</th>\n",
       "      <th>x506</th>\n",
       "      <th>x507</th>\n",
       "      <th>x508</th>\n",
       "      <th>x509</th>\n",
       "      <th>x510</th>\n",
       "      <th>x511</th>\n",
       "      <th>x512</th>\n",
       "    </tr>\n",
       "  </thead>\n",
       "  <tbody>\n",
       "    <tr>\n",
       "      <th>0</th>\n",
       "      <td>0</td>\n",
       "      <td>0.000400</td>\n",
       "      <td>0.000470</td>\n",
       "      <td>0.000067</td>\n",
       "      <td>-0.00016</td>\n",
       "      <td>-0.000003</td>\n",
       "      <td>0.00031</td>\n",
       "      <td>0.000360</td>\n",
       "      <td>0.00019</td>\n",
       "      <td>-0.000072</td>\n",
       "      <td>...</td>\n",
       "      <td>-0.000086</td>\n",
       "      <td>0.000033</td>\n",
       "      <td>-0.000046</td>\n",
       "      <td>-0.000270</td>\n",
       "      <td>-0.000390</td>\n",
       "      <td>-0.00034</td>\n",
       "      <td>-0.00032</td>\n",
       "      <td>-0.00021</td>\n",
       "      <td>0.000042</td>\n",
       "      <td>0.000053</td>\n",
       "    </tr>\n",
       "    <tr>\n",
       "      <th>1</th>\n",
       "      <td>1</td>\n",
       "      <td>0.000067</td>\n",
       "      <td>0.000095</td>\n",
       "      <td>0.000270</td>\n",
       "      <td>0.00028</td>\n",
       "      <td>0.000250</td>\n",
       "      <td>0.00012</td>\n",
       "      <td>0.000094</td>\n",
       "      <td>-0.00034</td>\n",
       "      <td>-0.000960</td>\n",
       "      <td>...</td>\n",
       "      <td>0.000046</td>\n",
       "      <td>0.000300</td>\n",
       "      <td>0.000630</td>\n",
       "      <td>0.000710</td>\n",
       "      <td>0.000520</td>\n",
       "      <td>0.00041</td>\n",
       "      <td>0.00066</td>\n",
       "      <td>0.00088</td>\n",
       "      <td>0.000770</td>\n",
       "      <td>0.000410</td>\n",
       "    </tr>\n",
       "    <tr>\n",
       "      <th>2</th>\n",
       "      <td>2</td>\n",
       "      <td>0.000160</td>\n",
       "      <td>-0.000210</td>\n",
       "      <td>-0.000840</td>\n",
       "      <td>-0.00120</td>\n",
       "      <td>-0.001200</td>\n",
       "      <td>-0.00140</td>\n",
       "      <td>-0.001400</td>\n",
       "      <td>-0.00091</td>\n",
       "      <td>-0.000600</td>\n",
       "      <td>...</td>\n",
       "      <td>-0.000680</td>\n",
       "      <td>-0.000880</td>\n",
       "      <td>-0.001000</td>\n",
       "      <td>-0.000770</td>\n",
       "      <td>-0.000680</td>\n",
       "      <td>-0.00073</td>\n",
       "      <td>-0.00073</td>\n",
       "      <td>-0.00062</td>\n",
       "      <td>-0.000550</td>\n",
       "      <td>-0.000540</td>\n",
       "    </tr>\n",
       "    <tr>\n",
       "      <th>3</th>\n",
       "      <td>3</td>\n",
       "      <td>-0.000140</td>\n",
       "      <td>0.000260</td>\n",
       "      <td>0.000390</td>\n",
       "      <td>0.00043</td>\n",
       "      <td>0.000280</td>\n",
       "      <td>0.00023</td>\n",
       "      <td>0.000390</td>\n",
       "      <td>0.00022</td>\n",
       "      <td>0.000150</td>\n",
       "      <td>...</td>\n",
       "      <td>0.000720</td>\n",
       "      <td>0.000760</td>\n",
       "      <td>0.000380</td>\n",
       "      <td>0.000052</td>\n",
       "      <td>-0.000260</td>\n",
       "      <td>-0.00058</td>\n",
       "      <td>-0.00075</td>\n",
       "      <td>-0.00110</td>\n",
       "      <td>-0.001200</td>\n",
       "      <td>-0.001200</td>\n",
       "    </tr>\n",
       "    <tr>\n",
       "      <th>4</th>\n",
       "      <td>4</td>\n",
       "      <td>-0.001100</td>\n",
       "      <td>-0.000790</td>\n",
       "      <td>-0.000081</td>\n",
       "      <td>0.00014</td>\n",
       "      <td>0.000200</td>\n",
       "      <td>-0.00014</td>\n",
       "      <td>-0.000430</td>\n",
       "      <td>-0.00053</td>\n",
       "      <td>-0.000580</td>\n",
       "      <td>...</td>\n",
       "      <td>0.000290</td>\n",
       "      <td>0.000600</td>\n",
       "      <td>0.000670</td>\n",
       "      <td>0.000190</td>\n",
       "      <td>-0.000055</td>\n",
       "      <td>-0.00016</td>\n",
       "      <td>-0.00023</td>\n",
       "      <td>-0.00023</td>\n",
       "      <td>-0.000330</td>\n",
       "      <td>-0.000810</td>\n",
       "    </tr>\n",
       "  </tbody>\n",
       "</table>\n",
       "<p>5 rows × 513 columns</p>\n",
       "</div>"
      ],
      "text/plain": [
       "   Id        x1        x2        x3       x4        x5       x6        x7  \\\n",
       "0   0  0.000400  0.000470  0.000067 -0.00016 -0.000003  0.00031  0.000360   \n",
       "1   1  0.000067  0.000095  0.000270  0.00028  0.000250  0.00012  0.000094   \n",
       "2   2  0.000160 -0.000210 -0.000840 -0.00120 -0.001200 -0.00140 -0.001400   \n",
       "3   3 -0.000140  0.000260  0.000390  0.00043  0.000280  0.00023  0.000390   \n",
       "4   4 -0.001100 -0.000790 -0.000081  0.00014  0.000200 -0.00014 -0.000430   \n",
       "\n",
       "        x8        x9  ...      x503      x504      x505      x506      x507  \\\n",
       "0  0.00019 -0.000072  ... -0.000086  0.000033 -0.000046 -0.000270 -0.000390   \n",
       "1 -0.00034 -0.000960  ...  0.000046  0.000300  0.000630  0.000710  0.000520   \n",
       "2 -0.00091 -0.000600  ... -0.000680 -0.000880 -0.001000 -0.000770 -0.000680   \n",
       "3  0.00022  0.000150  ...  0.000720  0.000760  0.000380  0.000052 -0.000260   \n",
       "4 -0.00053 -0.000580  ...  0.000290  0.000600  0.000670  0.000190 -0.000055   \n",
       "\n",
       "      x508     x509     x510      x511      x512  \n",
       "0 -0.00034 -0.00032 -0.00021  0.000042  0.000053  \n",
       "1  0.00041  0.00066  0.00088  0.000770  0.000410  \n",
       "2 -0.00073 -0.00073 -0.00062 -0.000550 -0.000540  \n",
       "3 -0.00058 -0.00075 -0.00110 -0.001200 -0.001200  \n",
       "4 -0.00016 -0.00023 -0.00023 -0.000330 -0.000810  \n",
       "\n",
       "[5 rows x 513 columns]"
      ]
     },
     "execution_count": 48,
     "metadata": {},
     "output_type": "execute_result"
    }
   ],
   "source": [
    "train_eeg1_df.head()"
   ]
  },
  {
   "cell_type": "code",
   "execution_count": 96,
   "metadata": {},
   "outputs": [
    {
     "name": "stdout",
     "output_type": "stream",
     "text": [
      "34114\n",
      "27133\n",
      "3553\n"
     ]
    }
   ],
   "source": [
    "print(len(y_train_df[y_train_df['y'] == 1]))\n",
    "print(len(y_train_df[y_train_df['y'] == 2]))\n",
    "print(len(y_train_df[y_train_df['y'] == 3]))"
   ]
  },
  {
   "cell_type": "code",
   "execution_count": 49,
   "metadata": {},
   "outputs": [
    {
     "data": {
      "text/plain": [
       "512"
      ]
     },
     "execution_count": 49,
     "metadata": {},
     "output_type": "execute_result"
    }
   ],
   "source": [
    "len(train_eeg1_df.iloc[0][1:])"
   ]
  },
  {
   "cell_type": "code",
   "execution_count": 55,
   "metadata": {},
   "outputs": [],
   "source": [
    "x = np.array(train_eeg1_df.iloc[0][1:])\n",
    "x = np.stack([x,x,x])\n",
    "x = torch.Tensor(x)\n",
    "x = x.unsqueeze(0)"
   ]
  },
  {
   "cell_type": "code",
   "execution_count": 56,
   "metadata": {},
   "outputs": [
    {
     "data": {
      "text/plain": [
       "torch.Size([1, 3, 512])"
      ]
     },
     "execution_count": 56,
     "metadata": {},
     "output_type": "execute_result"
    }
   ],
   "source": [
    "x.shape"
   ]
  },
  {
   "cell_type": "code",
   "execution_count": 57,
   "metadata": {},
   "outputs": [],
   "source": [
    "conv = nn.Conv1d(in_channels=3, out_channels=32, kernel_size=5, stride=1)\n",
    "\n",
    "conv_pad = nn.Conv1d(in_channels=32, out_channels=32, kernel_size=5, stride=1, padding=2)\n",
    "drop_50 = nn.Dropout(p=0.5)\n",
    "\n",
    "maxpool = nn.MaxPool1d(kernel_size=5, stride=2)\n",
    "\n",
    "avgpool = nn.AdaptiveAvgPool1d(output_size=14)\n",
    "\n",
    "dense1 = nn.Linear(32 * 14, 32)\n",
    "dense2 = nn.Linear(32, 32)\n",
    "\n",
    "dense_final = nn.Linear(32, 3)\n",
    "        # self.softmax= nn.LogSoftmax(dim=1)"
   ]
  },
  {
   "cell_type": "code",
   "execution_count": 58,
   "metadata": {},
   "outputs": [
    {
     "name": "stdout",
     "output_type": "stream",
     "text": [
      "torch.Size([1, 32, 508])    torch.Size([1, 32, 252])\n",
      "torch.Size([1, 32, 252])    torch.Size([1, 32, 124])\n",
      "torch.Size([1, 32, 124])    torch.Size([1, 32, 60])\n",
      "torch.Size([1, 32, 28])    torch.Size([1, 32, 60])\n"
     ]
    }
   ],
   "source": [
    "\n",
    "residual = conv(x)\n",
    "\n",
    "# block1\n",
    "x = F.relu(conv_pad(residual))\n",
    "x = conv_pad(x)\n",
    "x += residual\n",
    "x = F.relu(x) # [batch_size 32 508]\n",
    "residual = maxpool(x)  # [batch_size 32 252]\n",
    "print(x.shape, '  ', residual.shape)\n",
    "\n",
    "# block2\n",
    "x = F.relu(conv_pad(residual))\n",
    "x = conv_pad(x)\n",
    "x += residual\n",
    "x = F.relu(x) # [batch_size 32 252]\n",
    "residual = maxpool(x) # [batch_size 32 124]\n",
    "print(x.shape, '  ', residual.shape)\n",
    "\n",
    "# block3\n",
    "x = F.relu(conv_pad(residual))\n",
    "x = conv_pad(x)\n",
    "x += residual\n",
    "x = F.relu(x)  # [batch_size 32 124]\n",
    "residual = maxpool(x)  # [batch_size 32 60]\n",
    "print(x.shape, '  ', residual.shape)\n",
    "\n",
    "# block4\n",
    "x = F.relu(conv_pad(residual))\n",
    "x = conv_pad(x)\n",
    "x += residual\n",
    "x = F.relu(x)\n",
    "x = maxpool(x)  # [batch_size 32 28]\n",
    "print(x.shape, '  ', residual.shape)"
   ]
  },
  {
   "cell_type": "code",
   "execution_count": null,
   "metadata": {},
   "outputs": [],
   "source": []
  },
  {
   "cell_type": "code",
   "execution_count": 59,
   "metadata": {},
   "outputs": [
    {
     "data": {
      "text/plain": [
       "64800"
      ]
     },
     "execution_count": 59,
     "metadata": {},
     "output_type": "execute_result"
    }
   ],
   "source": [
    "len(train_eeg1_df)"
   ]
  },
  {
   "cell_type": "code",
   "execution_count": 60,
   "metadata": {},
   "outputs": [
    {
     "data": {
      "text/plain": [
       "64800"
      ]
     },
     "execution_count": 60,
     "metadata": {},
     "output_type": "execute_result"
    }
   ],
   "source": [
    "len(y_train_df)"
   ]
  },
  {
   "cell_type": "code",
   "execution_count": 61,
   "metadata": {},
   "outputs": [],
   "source": [
    "considered_signal = np.array(train_eeg1_df.drop('Id', axis=1).iloc[0])                                             "
   ]
  },
  {
   "cell_type": "code",
   "execution_count": 62,
   "metadata": {},
   "outputs": [
    {
     "data": {
      "text/plain": [
       "[<matplotlib.lines.Line2D at 0x133bdcc10>]"
      ]
     },
     "execution_count": 62,
     "metadata": {},
     "output_type": "execute_result"
    },
    {
     "data": {
      "image/png": "[encoded data removed]",
      "text/plain": [
       "<Figure size 432x288 with 1 Axes>"
      ]
     },
     "metadata": {
      "needs_background": "light"
     },
     "output_type": "display_data"
    }
   ],
   "source": [
    "plt.plot(np.arange(len(considered_signal)), considered_signal, '-r')"
   ]
  },
  {
   "cell_type": "code",
   "execution_count": 63,
   "metadata": {},
   "outputs": [
    {
     "data": {
      "text/html": [
       "<div>\n",
       "<style scoped>\n",
       "    .dataframe tbody tr th:only-of-type {\n",
       "        vertical-align: middle;\n",
       "    }\n",
       "\n",
       "    .dataframe tbody tr th {\n",
       "        vertical-align: top;\n",
       "    }\n",
       "\n",
       "    .dataframe thead th {\n",
       "        text-align: right;\n",
       "    }\n",
       "</style>\n",
       "<table border=\"1\" class=\"dataframe\">\n",
       "  <thead>\n",
       "    <tr style=\"text-align: right;\">\n",
       "      <th></th>\n",
       "      <th>Id</th>\n",
       "      <th>y</th>\n",
       "    </tr>\n",
       "  </thead>\n",
       "  <tbody>\n",
       "    <tr>\n",
       "      <th>0</th>\n",
       "      <td>0</td>\n",
       "      <td>2</td>\n",
       "    </tr>\n",
       "    <tr>\n",
       "      <th>1</th>\n",
       "      <td>1</td>\n",
       "      <td>2</td>\n",
       "    </tr>\n",
       "    <tr>\n",
       "      <th>2</th>\n",
       "      <td>2</td>\n",
       "      <td>2</td>\n",
       "    </tr>\n",
       "    <tr>\n",
       "      <th>3</th>\n",
       "      <td>3</td>\n",
       "      <td>2</td>\n",
       "    </tr>\n",
       "    <tr>\n",
       "      <th>4</th>\n",
       "      <td>4</td>\n",
       "      <td>2</td>\n",
       "    </tr>\n",
       "  </tbody>\n",
       "</table>\n",
       "</div>"
      ],
      "text/plain": [
       "   Id  y\n",
       "0   0  2\n",
       "1   1  2\n",
       "2   2  2\n",
       "3   3  2\n",
       "4   4  2"
      ]
     },
     "execution_count": 63,
     "metadata": {},
     "output_type": "execute_result"
    }
   ],
   "source": [
    "y_train_df.head()"
   ]
  },
  {
   "cell_type": "markdown",
   "metadata": {},
   "source": [
    "# emg signal"
   ]
  },
  {
   "cell_type": "code",
   "execution_count": 88,
   "metadata": {},
   "outputs": [
    {
     "data": {
      "text/html": [
       "<div>\n",
       "<style scoped>\n",
       "    .dataframe tbody tr th:only-of-type {\n",
       "        vertical-align: middle;\n",
       "    }\n",
       "\n",
       "    .dataframe tbody tr th {\n",
       "        vertical-align: top;\n",
       "    }\n",
       "\n",
       "    .dataframe thead th {\n",
       "        text-align: right;\n",
       "    }\n",
       "</style>\n",
       "<table border=\"1\" class=\"dataframe\">\n",
       "  <thead>\n",
       "    <tr style=\"text-align: right;\">\n",
       "      <th></th>\n",
       "      <th>Id</th>\n",
       "      <th>x1</th>\n",
       "      <th>x2</th>\n",
       "      <th>x3</th>\n",
       "      <th>x4</th>\n",
       "      <th>x5</th>\n",
       "      <th>x6</th>\n",
       "      <th>x7</th>\n",
       "      <th>x8</th>\n",
       "      <th>x9</th>\n",
       "      <th>...</th>\n",
       "      <th>x503</th>\n",
       "      <th>x504</th>\n",
       "      <th>x505</th>\n",
       "      <th>x506</th>\n",
       "      <th>x507</th>\n",
       "      <th>x508</th>\n",
       "      <th>x509</th>\n",
       "      <th>x510</th>\n",
       "      <th>x511</th>\n",
       "      <th>x512</th>\n",
       "    </tr>\n",
       "  </thead>\n",
       "  <tbody>\n",
       "    <tr>\n",
       "      <th>0</th>\n",
       "      <td>0</td>\n",
       "      <td>-0.000024</td>\n",
       "      <td>-0.000018</td>\n",
       "      <td>-0.000014</td>\n",
       "      <td>-0.000017</td>\n",
       "      <td>-0.000012</td>\n",
       "      <td>-0.000007</td>\n",
       "      <td>-0.000004</td>\n",
       "      <td>-0.000009</td>\n",
       "      <td>-0.000060</td>\n",
       "      <td>...</td>\n",
       "      <td>-0.000003</td>\n",
       "      <td>-0.000009</td>\n",
       "      <td>-0.000010</td>\n",
       "      <td>-0.000002</td>\n",
       "      <td>-9.000000e-07</td>\n",
       "      <td>-0.000010</td>\n",
       "      <td>-0.000006</td>\n",
       "      <td>-0.000013</td>\n",
       "      <td>-0.000030</td>\n",
       "      <td>-0.000004</td>\n",
       "    </tr>\n",
       "    <tr>\n",
       "      <th>1</th>\n",
       "      <td>1</td>\n",
       "      <td>-0.000005</td>\n",
       "      <td>-0.000007</td>\n",
       "      <td>-0.000007</td>\n",
       "      <td>-0.000008</td>\n",
       "      <td>-0.000006</td>\n",
       "      <td>-0.000008</td>\n",
       "      <td>-0.000012</td>\n",
       "      <td>-0.000017</td>\n",
       "      <td>-0.000015</td>\n",
       "      <td>...</td>\n",
       "      <td>-0.000014</td>\n",
       "      <td>-0.000016</td>\n",
       "      <td>-0.000010</td>\n",
       "      <td>-0.000005</td>\n",
       "      <td>-9.200000e-06</td>\n",
       "      <td>-0.000011</td>\n",
       "      <td>-0.000010</td>\n",
       "      <td>-0.000015</td>\n",
       "      <td>0.000006</td>\n",
       "      <td>-0.000006</td>\n",
       "    </tr>\n",
       "    <tr>\n",
       "      <th>2</th>\n",
       "      <td>2</td>\n",
       "      <td>-0.000013</td>\n",
       "      <td>-0.000013</td>\n",
       "      <td>-0.000008</td>\n",
       "      <td>-0.000014</td>\n",
       "      <td>-0.000005</td>\n",
       "      <td>-0.000008</td>\n",
       "      <td>-0.000011</td>\n",
       "      <td>-0.000007</td>\n",
       "      <td>-0.000008</td>\n",
       "      <td>...</td>\n",
       "      <td>-0.000005</td>\n",
       "      <td>-0.000008</td>\n",
       "      <td>-0.000011</td>\n",
       "      <td>-0.000014</td>\n",
       "      <td>-1.800000e-05</td>\n",
       "      <td>-0.000012</td>\n",
       "      <td>-0.000015</td>\n",
       "      <td>-0.000015</td>\n",
       "      <td>-0.000016</td>\n",
       "      <td>-0.000011</td>\n",
       "    </tr>\n",
       "    <tr>\n",
       "      <th>3</th>\n",
       "      <td>3</td>\n",
       "      <td>-0.000011</td>\n",
       "      <td>-0.000010</td>\n",
       "      <td>-0.000029</td>\n",
       "      <td>-0.000041</td>\n",
       "      <td>-0.000010</td>\n",
       "      <td>-0.000021</td>\n",
       "      <td>-0.000010</td>\n",
       "      <td>-0.000012</td>\n",
       "      <td>-0.000005</td>\n",
       "      <td>...</td>\n",
       "      <td>0.000019</td>\n",
       "      <td>-0.000012</td>\n",
       "      <td>-0.000009</td>\n",
       "      <td>-0.000011</td>\n",
       "      <td>-6.400000e-06</td>\n",
       "      <td>-0.000012</td>\n",
       "      <td>-0.000008</td>\n",
       "      <td>-0.000007</td>\n",
       "      <td>-0.000003</td>\n",
       "      <td>-0.000014</td>\n",
       "    </tr>\n",
       "    <tr>\n",
       "      <th>4</th>\n",
       "      <td>4</td>\n",
       "      <td>-0.000011</td>\n",
       "      <td>-0.000014</td>\n",
       "      <td>-0.000010</td>\n",
       "      <td>-0.000011</td>\n",
       "      <td>-0.000004</td>\n",
       "      <td>-0.000051</td>\n",
       "      <td>-0.000029</td>\n",
       "      <td>-0.000002</td>\n",
       "      <td>-0.000011</td>\n",
       "      <td>...</td>\n",
       "      <td>-0.000033</td>\n",
       "      <td>-0.000005</td>\n",
       "      <td>-0.000008</td>\n",
       "      <td>-0.000011</td>\n",
       "      <td>-1.200000e-05</td>\n",
       "      <td>-0.000008</td>\n",
       "      <td>-0.000008</td>\n",
       "      <td>-0.000007</td>\n",
       "      <td>-0.000011</td>\n",
       "      <td>-0.000007</td>\n",
       "    </tr>\n",
       "  </tbody>\n",
       "</table>\n",
       "<p>5 rows × 513 columns</p>\n",
       "</div>"
      ],
      "text/plain": [
       "   Id        x1        x2        x3        x4        x5        x6        x7  \\\n",
       "0   0 -0.000024 -0.000018 -0.000014 -0.000017 -0.000012 -0.000007 -0.000004   \n",
       "1   1 -0.000005 -0.000007 -0.000007 -0.000008 -0.000006 -0.000008 -0.000012   \n",
       "2   2 -0.000013 -0.000013 -0.000008 -0.000014 -0.000005 -0.000008 -0.000011   \n",
       "3   3 -0.000011 -0.000010 -0.000029 -0.000041 -0.000010 -0.000021 -0.000010   \n",
       "4   4 -0.000011 -0.000014 -0.000010 -0.000011 -0.000004 -0.000051 -0.000029   \n",
       "\n",
       "         x8        x9  ...      x503      x504      x505      x506  \\\n",
       "0 -0.000009 -0.000060  ... -0.000003 -0.000009 -0.000010 -0.000002   \n",
       "1 -0.000017 -0.000015  ... -0.000014 -0.000016 -0.000010 -0.000005   \n",
       "2 -0.000007 -0.000008  ... -0.000005 -0.000008 -0.000011 -0.000014   \n",
       "3 -0.000012 -0.000005  ...  0.000019 -0.000012 -0.000009 -0.000011   \n",
       "4 -0.000002 -0.000011  ... -0.000033 -0.000005 -0.000008 -0.000011   \n",
       "\n",
       "           x507      x508      x509      x510      x511      x512  \n",
       "0 -9.000000e-07 -0.000010 -0.000006 -0.000013 -0.000030 -0.000004  \n",
       "1 -9.200000e-06 -0.000011 -0.000010 -0.000015  0.000006 -0.000006  \n",
       "2 -1.800000e-05 -0.000012 -0.000015 -0.000015 -0.000016 -0.000011  \n",
       "3 -6.400000e-06 -0.000012 -0.000008 -0.000007 -0.000003 -0.000014  \n",
       "4 -1.200000e-05 -0.000008 -0.000008 -0.000007 -0.000011 -0.000007  \n",
       "\n",
       "[5 rows x 513 columns]"
      ]
     },
     "execution_count": 88,
     "metadata": {},
     "output_type": "execute_result"
    }
   ],
   "source": [
    "train_emg_df.head()"
   ]
  },
  {
   "cell_type": "code",
   "execution_count": 92,
   "metadata": {},
   "outputs": [],
   "source": [
    "my_emg_signal = train_emg_df.drop('Id', axis=1).values.reshape(-1)\n",
    "my_emg_signal = my_emg_signal[:int(len(my_emg_signal)/3)]"
   ]
  },
  {
   "cell_type": "code",
   "execution_count": 85,
   "metadata": {},
   "outputs": [],
   "source": [
    "considered_emg = np.array(train_emg_df.drop('Id', axis=1).iloc[0])   "
   ]
  },
  {
   "cell_type": "code",
   "execution_count": 271,
   "metadata": {},
   "outputs": [
    {
     "data": {
      "text/plain": [
       "array([       0,        1,        2, ..., 11059197, 11059198, 11059199])"
      ]
     },
     "execution_count": 271,
     "metadata": {},
     "output_type": "execute_result"
    }
   ],
   "source": [
    "np.where((my_emg_signal < 0.001) & (my_emg_signal > -0.001))[0]"
   ]
  },
  {
   "cell_type": "code",
   "execution_count": 273,
   "metadata": {},
   "outputs": [
    {
     "data": {
      "text/plain": [
       "[<matplotlib.lines.Line2D at 0x1455d00d0>]"
      ]
     },
     "execution_count": 273,
     "metadata": {},
     "output_type": "execute_result"
    },
    {
     "data": {
      "image/png": "[encoded data removed]",
      "text/plain": [
       "<Figure size 864x576 with 1 Axes>"
      ]
     },
     "metadata": {
      "needs_background": "light"
     },
     "output_type": "display_data"
    }
   ],
   "source": [
    "plt.figure(figsize=(12,8))\n",
    "plt.plot(np.arange(len(my_emg_signal)), my_emg_signal, '-r')\n",
    "plt.plot(np.where((my_emg_signal < 0.0005) & (my_emg_signal > -0.0005))[0],\n",
    "         my_emg_signal[np.where((my_emg_signal < 0.0005) & (my_emg_signal > -0.0005))[0]], '-b')"
   ]
  },
  {
   "cell_type": "code",
   "execution_count": 94,
   "metadata": {},
   "outputs": [
    {
     "data": {
      "text/html": [
       "<div>\n",
       "<style scoped>\n",
       "    .dataframe tbody tr th:only-of-type {\n",
       "        vertical-align: middle;\n",
       "    }\n",
       "\n",
       "    .dataframe tbody tr th {\n",
       "        vertical-align: top;\n",
       "    }\n",
       "\n",
       "    .dataframe thead th {\n",
       "        text-align: right;\n",
       "    }\n",
       "</style>\n",
       "<table border=\"1\" class=\"dataframe\">\n",
       "  <thead>\n",
       "    <tr style=\"text-align: right;\">\n",
       "      <th></th>\n",
       "      <th>Id</th>\n",
       "      <th>y</th>\n",
       "    </tr>\n",
       "  </thead>\n",
       "  <tbody>\n",
       "    <tr>\n",
       "      <th>0</th>\n",
       "      <td>0</td>\n",
       "      <td>2</td>\n",
       "    </tr>\n",
       "    <tr>\n",
       "      <th>1</th>\n",
       "      <td>1</td>\n",
       "      <td>2</td>\n",
       "    </tr>\n",
       "    <tr>\n",
       "      <th>2</th>\n",
       "      <td>2</td>\n",
       "      <td>2</td>\n",
       "    </tr>\n",
       "    <tr>\n",
       "      <th>3</th>\n",
       "      <td>3</td>\n",
       "      <td>2</td>\n",
       "    </tr>\n",
       "    <tr>\n",
       "      <th>4</th>\n",
       "      <td>4</td>\n",
       "      <td>2</td>\n",
       "    </tr>\n",
       "    <tr>\n",
       "      <th>...</th>\n",
       "      <td>...</td>\n",
       "      <td>...</td>\n",
       "    </tr>\n",
       "    <tr>\n",
       "      <th>64795</th>\n",
       "      <td>64795</td>\n",
       "      <td>1</td>\n",
       "    </tr>\n",
       "    <tr>\n",
       "      <th>64796</th>\n",
       "      <td>64796</td>\n",
       "      <td>1</td>\n",
       "    </tr>\n",
       "    <tr>\n",
       "      <th>64797</th>\n",
       "      <td>64797</td>\n",
       "      <td>1</td>\n",
       "    </tr>\n",
       "    <tr>\n",
       "      <th>64798</th>\n",
       "      <td>64798</td>\n",
       "      <td>1</td>\n",
       "    </tr>\n",
       "    <tr>\n",
       "      <th>64799</th>\n",
       "      <td>64799</td>\n",
       "      <td>1</td>\n",
       "    </tr>\n",
       "  </tbody>\n",
       "</table>\n",
       "<p>64800 rows × 2 columns</p>\n",
       "</div>"
      ],
      "text/plain": [
       "          Id  y\n",
       "0          0  2\n",
       "1          1  2\n",
       "2          2  2\n",
       "3          3  2\n",
       "4          4  2\n",
       "...      ... ..\n",
       "64795  64795  1\n",
       "64796  64796  1\n",
       "64797  64797  1\n",
       "64798  64798  1\n",
       "64799  64799  1\n",
       "\n",
       "[64800 rows x 2 columns]"
      ]
     },
     "execution_count": 94,
     "metadata": {},
     "output_type": "execute_result"
    }
   ],
   "source": [
    "y_train_df"
   ]
  },
  {
   "cell_type": "markdown",
   "metadata": {},
   "source": [
    "# feature extraction"
   ]
  },
  {
   "cell_type": "code",
   "execution_count": 64,
   "metadata": {},
   "outputs": [],
   "source": [
    "import biosppy\n",
    "from biosppy.signals import eeg, emg"
   ]
  },
  {
   "cell_type": "code",
   "execution_count": 65,
   "metadata": {},
   "outputs": [],
   "source": [
    "considered_signal = considered_signal.reshape(512,1)"
   ]
  },
  {
   "cell_type": "code",
   "execution_count": 66,
   "metadata": {},
   "outputs": [],
   "source": [
    "ts, filtered, features_ts, theta, alpha_low, alpha_high, beta, gamma, plf_pairs, plf = eeg.eeg(considered_signal, sampling_rate=128, show=False)"
   ]
  },
  {
   "cell_type": "code",
   "execution_count": 67,
   "metadata": {},
   "outputs": [],
   "source": [
    "considered_signal_emg = np.array(train_emg_df.drop('Id', axis=1).iloc[0])     "
   ]
  },
  {
   "cell_type": "code",
   "execution_count": 68,
   "metadata": {},
   "outputs": [
    {
     "data": {
      "text/plain": [
       "(512, 1)"
      ]
     },
     "execution_count": 68,
     "metadata": {},
     "output_type": "execute_result"
    }
   ],
   "source": [
    "filtered.shape"
   ]
  },
  {
   "cell_type": "code",
   "execution_count": 69,
   "metadata": {},
   "outputs": [
    {
     "data": {
      "text/plain": [
       "[<matplotlib.lines.Line2D at 0x133a1d3a0>]"
      ]
     },
     "execution_count": 69,
     "metadata": {},
     "output_type": "execute_result"
    },
    {
     "data": {
      "image/png": "[encoded data removed]",
      "text/plain": [
       "<Figure size 432x288 with 1 Axes>"
      ]
     },
     "metadata": {
      "needs_background": "light"
     },
     "output_type": "display_data"
    }
   ],
   "source": [
    "plt.plot(ts,considered_signal_emg)"
   ]
  },
  {
   "cell_type": "code",
   "execution_count": 70,
   "metadata": {},
   "outputs": [
    {
     "data": {
      "text/plain": [
       "(31, 1)"
      ]
     },
     "execution_count": 70,
     "metadata": {},
     "output_type": "execute_result"
    }
   ],
   "source": [
    "theta.shape"
   ]
  },
  {
   "cell_type": "code",
   "execution_count": 71,
   "metadata": {},
   "outputs": [],
   "source": [
    "# IDEA:\n",
    "# we have 21600 epochs for a patient, maybe we can use the state of 100 epochs\n",
    "# we can use the frequency analysis again"
   ]
  },
  {
   "cell_type": "code",
   "execution_count": 74,
   "metadata": {},
   "outputs": [
    {
     "data": {
      "text/plain": [
       "[<matplotlib.lines.Line2D at 0x18e83ca00>]"
      ]
     },
     "execution_count": 74,
     "metadata": {},
     "output_type": "execute_result"
    },
    {
     "data": {
      "image/png": "[encoded data removed]",
      "text/plain": [
       "<Figure size 864x576 with 1 Axes>"
      ]
     },
     "metadata": {
      "needs_background": "light"
     },
     "output_type": "display_data"
    }
   ],
   "source": [
    "plt.figure(figsize=(12,8))\n",
    "plt.plot(ts, considered_signal.reshape(512,), '-b')\n",
    "plt.plot(ts, filtered.reshape(512,), '-r')"
   ]
  },
  {
   "cell_type": "code",
   "execution_count": 17,
   "metadata": {},
   "outputs": [
    {
     "data": {
      "text/plain": [
       "21600"
      ]
     },
     "execution_count": 17,
     "metadata": {},
     "output_type": "execute_result"
    }
   ],
   "source": [
    "len(train_eeg1_df.iloc[:21600])"
   ]
  },
  {
   "cell_type": "code",
   "execution_count": 18,
   "metadata": {},
   "outputs": [],
   "source": [
    "patient1 = train_eeg1_df.drop('Id', axis=1).iloc[:21600].values.reshape(21600*512,1)"
   ]
  },
  {
   "cell_type": "code",
   "execution_count": 97,
   "metadata": {},
   "outputs": [],
   "source": [
    "from scipy import signal"
   ]
  },
  {
   "cell_type": "code",
   "execution_count": 235,
   "metadata": {},
   "outputs": [],
   "source": [
    "considered_signal = np.array(train_eeg1_df.drop('Id', axis=1).iloc[0])                                             "
   ]
  },
  {
   "cell_type": "code",
   "execution_count": 236,
   "metadata": {},
   "outputs": [],
   "source": [
    "considered_signal = considered_signal.reshape(512,1)"
   ]
  },
  {
   "cell_type": "code",
   "execution_count": 237,
   "metadata": {},
   "outputs": [],
   "source": [
    "ts, filtered, features_ts, theta, alpha_low, alpha_high, beta, gamma, plf_pairs, plf = eeg.eeg(considered_signal, sampling_rate=128, show=False)"
   ]
  },
  {
   "cell_type": "code",
   "execution_count": 238,
   "metadata": {},
   "outputs": [],
   "source": [
    "freqs, psd = signal.welch(filtered.reshape(512,), fs=1)"
   ]
  },
  {
   "cell_type": "code",
   "execution_count": 239,
   "metadata": {},
   "outputs": [
    {
     "data": {
      "text/plain": [
       "(129,)"
      ]
     },
     "execution_count": 239,
     "metadata": {},
     "output_type": "execute_result"
    }
   ],
   "source": [
    "freqs.shape"
   ]
  },
  {
   "cell_type": "code",
   "execution_count": 240,
   "metadata": {},
   "outputs": [
    {
     "data": {
      "text/plain": [
       "(129,)"
      ]
     },
     "execution_count": 240,
     "metadata": {},
     "output_type": "execute_result"
    }
   ],
   "source": [
    "psd.shape"
   ]
  },
  {
   "cell_type": "code",
   "execution_count": 241,
   "metadata": {},
   "outputs": [],
   "source": [
    "correlation = np.correlate(filtered.reshape(512,),filtered.reshape(512,),\"full\")"
   ]
  },
  {
   "cell_type": "code",
   "execution_count": 242,
   "metadata": {},
   "outputs": [
    {
     "data": {
      "text/plain": [
       "(1023,)"
      ]
     },
     "execution_count": 242,
     "metadata": {},
     "output_type": "execute_result"
    }
   ],
   "source": [
    "correlation.shape"
   ]
  },
  {
   "cell_type": "code",
   "execution_count": 243,
   "metadata": {},
   "outputs": [
    {
     "data": {
      "text/plain": [
       "[<matplotlib.lines.Line2D at 0x143d9a460>]"
      ]
     },
     "execution_count": 243,
     "metadata": {},
     "output_type": "execute_result"
    },
    {
     "data": {
      "image/png": "[encoded data removed]",
      "text/plain": [
       "<Figure size 432x288 with 1 Axes>"
      ]
     },
     "metadata": {
      "needs_background": "light"
     },
     "output_type": "display_data"
    }
   ],
   "source": [
    "plt.plot(np.arange(len(correlation)), correlation)"
   ]
  },
  {
   "cell_type": "code",
   "execution_count": 218,
   "metadata": {},
   "outputs": [
    {
     "data": {
      "text/plain": [
       "[<matplotlib.lines.Line2D at 0x1438d3dc0>]"
      ]
     },
     "execution_count": 218,
     "metadata": {},
     "output_type": "execute_result"
    },
    {
     "data": {
      "image/png": "[encoded data removed]",
      "text/plain": [
       "<Figure size 432x288 with 1 Axes>"
      ]
     },
     "metadata": {
      "needs_background": "light"
     },
     "output_type": "display_data"
    }
   ],
   "source": [
    "plt.plot(freqs, psd, '-b')"
   ]
  },
  {
   "cell_type": "code",
   "execution_count": 409,
   "metadata": {},
   "outputs": [],
   "source": [
    "considered_signal_emg = np.array(train_emg_df.drop('Id', axis=1).iloc[41])  \n",
    "#considered_signal_emg = considered_signal_emg.reshape(512,1)"
   ]
  },
  {
   "cell_type": "code",
   "execution_count": 410,
   "metadata": {},
   "outputs": [],
   "source": [
    "ts_emg, filtered_emg, onsets_emg = emg.emg(considered_signal_emg, show=False)"
   ]
  },
  {
   "cell_type": "code",
   "execution_count": 411,
   "metadata": {},
   "outputs": [
    {
     "data": {
      "text/plain": [
       "[<matplotlib.lines.Line2D at 0x1420a6100>]"
      ]
     },
     "execution_count": 411,
     "metadata": {},
     "output_type": "execute_result"
    },
    {
     "data": {
      "image/png": "[encoded data removed]",
      "text/plain": [
       "<Figure size 432x288 with 1 Axes>"
      ]
     },
     "metadata": {
      "needs_background": "light"
     },
     "output_type": "display_data"
    }
   ],
   "source": [
    "plt.plot(ts_emg.reshape(512,), considered_signal_emg.reshape(512,), 'b')\n",
    "plt.plot(ts_emg.reshape(512,), filtered_emg.reshape(512,), 'r')"
   ]
  },
  {
   "cell_type": "code",
   "execution_count": 412,
   "metadata": {},
   "outputs": [
    {
     "data": {
      "text/plain": [
       "array([], dtype=int64)"
      ]
     },
     "execution_count": 412,
     "metadata": {},
     "output_type": "execute_result"
    }
   ],
   "source": [
    "onsets_emg"
   ]
  },
  {
   "cell_type": "code",
   "execution_count": 413,
   "metadata": {},
   "outputs": [
    {
     "data": {
      "text/plain": [
       "0"
      ]
     },
     "execution_count": 413,
     "metadata": {},
     "output_type": "execute_result"
    }
   ],
   "source": [
    "len(onsets_emg)"
   ]
  },
  {
   "cell_type": "code",
   "execution_count": 294,
   "metadata": {},
   "outputs": [
    {
     "data": {
      "text/plain": [
       "array([-2.4e-05, -1.8e-05, -1.4e-05, ..., -1.2e-05, -2.6e-06, -7.9e-06])"
      ]
     },
     "execution_count": 294,
     "metadata": {},
     "output_type": "execute_result"
    }
   ],
   "source": [
    "my_emg_signal"
   ]
  },
  {
   "cell_type": "code",
   "execution_count": 357,
   "metadata": {},
   "outputs": [],
   "source": [
    "ts_emg_all, filtered_emg_all, onsets_emg_all = emg.emg(my_emg_signal, show=False)"
   ]
  },
  {
   "cell_type": "code",
   "execution_count": 296,
   "metadata": {},
   "outputs": [
    {
     "data": {
      "text/plain": [
       "13287"
      ]
     },
     "execution_count": 296,
     "metadata": {},
     "output_type": "execute_result"
    }
   ],
   "source": [
    "len(onsets_emg_all)"
   ]
  },
  {
   "cell_type": "code",
   "execution_count": 377,
   "metadata": {},
   "outputs": [
    {
     "data": {
      "text/plain": [
       "array([34, 34, 35, 35, 35, 35, 37, 37, 38, 38, 38, 39, 39, 39, 40, 40, 41,\n",
       "       41, 41, 41, 42, 42, 44, 44, 44, 44, 44, 44, 52, 53])"
      ]
     },
     "execution_count": 377,
     "metadata": {},
     "output_type": "execute_result"
    }
   ],
   "source": [
    "np.array(onsets_emg_all/512, dtype=int)[:30]"
   ]
  },
  {
   "cell_type": "code",
   "execution_count": 311,
   "metadata": {},
   "outputs": [],
   "source": [
    "onset_df=y_train_df.iloc[np.array(onsets_emg_all/512, dtype=int)]"
   ]
  },
  {
   "cell_type": "code",
   "execution_count": 312,
   "metadata": {},
   "outputs": [
    {
     "name": "stdout",
     "output_type": "stream",
     "text": [
      "13287\n",
      "0\n",
      "0\n"
     ]
    }
   ],
   "source": [
    "print(len(onset_df[onset_df['y'] == 1]))\n",
    "print(len(onset_df[onset_df['y'] == 2]))\n",
    "print(len(onset_df[onset_df['y'] == 3]))"
   ]
  },
  {
   "cell_type": "code",
   "execution_count": 321,
   "metadata": {},
   "outputs": [
    {
     "name": "stdout",
     "output_type": "stream",
     "text": [
      "34114\n",
      "27133\n",
      "3553\n"
     ]
    }
   ],
   "source": [
    "print(len(y_train_df[y_train_df['y'] == 1]))\n",
    "print(len(y_train_df[y_train_df['y'] == 2]))\n",
    "print(len(y_train_df[y_train_df['y'] == 3]))"
   ]
  },
  {
   "cell_type": "code",
   "execution_count": 340,
   "metadata": {},
   "outputs": [],
   "source": [
    "eeg1_df = train_eeg1_df.drop('Id', axis=1).head(50)"
   ]
  },
  {
   "cell_type": "code",
   "execution_count": 342,
   "metadata": {},
   "outputs": [],
   "source": [
    "import time"
   ]
  },
  {
   "cell_type": "code",
   "execution_count": 343,
   "metadata": {},
   "outputs": [
    {
     "name": "stdout",
     "output_type": "stream",
     "text": [
      "0.5064980983734131\n"
     ]
    }
   ],
   "source": [
    "start = time.time()\n",
    "values_eeg1 = eeg1_df.apply(lambda x: eeg.eeg(np.array(x).reshape(512,1), sampling_rate=128, show=False), axis=1)\n",
    "end = time.time()\n",
    "\n",
    "print(end-start)"
   ]
  },
  {
   "cell_type": "code",
   "execution_count": 347,
   "metadata": {},
   "outputs": [
    {
     "data": {
      "text/plain": [
       "array([[ 9.65714633e-07],\n",
       "       [ 1.12120918e-04],\n",
       "       [-1.14580142e-04],\n",
       "       [-3.28260848e-04],\n",
       "       [-9.49000280e-05],\n",
       "       [ 3.28293849e-04],\n",
       "       [ 4.38225189e-04],\n",
       "       [ 2.63992769e-04],\n",
       "       [ 1.46928811e-04],\n",
       "       [ 1.49313725e-04],\n",
       "       [ 1.39895937e-04],\n",
       "       [ 7.63654203e-05],\n",
       "       [-8.99078743e-05],\n",
       "       [-3.72739036e-04],\n",
       "       [-5.54748382e-04],\n",
       "       [-4.95852080e-04],\n",
       "       [-4.16212953e-04],\n",
       "       [-3.89528805e-04],\n",
       "       [-1.02782969e-04],\n",
       "       [ 4.05586710e-04],\n",
       "       [ 5.99581690e-04],\n",
       "       [ 4.03928228e-04],\n",
       "       [ 2.81620104e-04],\n",
       "       [ 2.51515565e-04],\n",
       "       [ 7.71696533e-06],\n",
       "       [-2.07229485e-04],\n",
       "       [-7.29205183e-05],\n",
       "       [ 2.88051660e-05],\n",
       "       [-1.99058226e-04],\n",
       "       [-2.89912735e-04],\n",
       "       [ 3.57166161e-05],\n",
       "       [ 3.34780058e-04],\n",
       "       [ 3.26346546e-04],\n",
       "       [ 1.80697034e-04],\n",
       "       [-8.84650691e-05],\n",
       "       [-4.72336080e-04],\n",
       "       [-5.81369696e-04],\n",
       "       [-2.46218901e-04],\n",
       "       [ 1.10315973e-04],\n",
       "       [ 2.10694939e-04],\n",
       "       [ 2.68983591e-04],\n",
       "       [ 3.70059377e-04],\n",
       "       [ 3.07910988e-04],\n",
       "       [ 1.27503607e-04],\n",
       "       [ 9.20666022e-05],\n",
       "       [ 1.06604150e-04],\n",
       "       [-1.41715120e-04],\n",
       "       [-4.98442370e-04],\n",
       "       [-5.09031737e-04],\n",
       "       [-2.26935211e-04],\n",
       "       [-8.60227192e-05],\n",
       "       [-9.49516498e-05],\n",
       "       [ 2.08264733e-05],\n",
       "       [ 1.69246376e-04],\n",
       "       [ 1.72504795e-04],\n",
       "       [ 1.94100753e-04],\n",
       "       [ 2.86779749e-04],\n",
       "       [ 2.13865954e-04],\n",
       "       [ 1.99991900e-06],\n",
       "       [-1.09468608e-04],\n",
       "       [-1.67725108e-04],\n",
       "       [-2.69139015e-04],\n",
       "       [-2.55569330e-04],\n",
       "       [-5.35525087e-05],\n",
       "       [ 2.40002404e-04],\n",
       "       [ 5.47571343e-04],\n",
       "       [ 6.23614572e-04],\n",
       "       [ 2.56297397e-04],\n",
       "       [-1.67165262e-04],\n",
       "       [-2.15625744e-04],\n",
       "       [-2.24347910e-04],\n",
       "       [-5.27029070e-04],\n",
       "       [-7.00955642e-04],\n",
       "       [-4.50384096e-04],\n",
       "       [-1.37804703e-04],\n",
       "       [-4.77478649e-06],\n",
       "       [ 6.72608367e-05],\n",
       "       [ 1.50602229e-04],\n",
       "       [ 3.16221361e-04],\n",
       "       [ 5.26823237e-04],\n",
       "       [ 4.72493354e-04],\n",
       "       [ 2.15934573e-04],\n",
       "       [ 2.77485980e-04],\n",
       "       [ 5.74189567e-04],\n",
       "       [ 5.09495805e-04],\n",
       "       [ 1.30989015e-04],\n",
       "       [-1.39850058e-04],\n",
       "       [-3.45389261e-04],\n",
       "       [-5.34510329e-04],\n",
       "       [-5.01438063e-04],\n",
       "       [-4.07414013e-04],\n",
       "       [-5.17524298e-04],\n",
       "       [-5.75365567e-04],\n",
       "       [-3.92535947e-04],\n",
       "       [-2.89588783e-04],\n",
       "       [-3.68222903e-04],\n",
       "       [-2.89092610e-04],\n",
       "       [ 4.81036032e-05],\n",
       "       [ 3.86763893e-04],\n",
       "       [ 5.41726578e-04],\n",
       "       [ 5.21251722e-04],\n",
       "       [ 4.91043367e-04],\n",
       "       [ 6.49318212e-04],\n",
       "       [ 9.00640623e-04],\n",
       "       [ 9.13666671e-04],\n",
       "       [ 6.04348902e-04],\n",
       "       [ 1.88836011e-04],\n",
       "       [-1.63714538e-04],\n",
       "       [-3.97115846e-04],\n",
       "       [-4.95116664e-04],\n",
       "       [-5.28408079e-04],\n",
       "       [-5.72712364e-04],\n",
       "       [-6.12072341e-04],\n",
       "       [-6.29787888e-04],\n",
       "       [-6.16242594e-04],\n",
       "       [-5.36438849e-04],\n",
       "       [-4.33950244e-04],\n",
       "       [-3.25418005e-04],\n",
       "       [-4.37791523e-05],\n",
       "       [ 4.27916636e-04],\n",
       "       [ 7.54778859e-04],\n",
       "       [ 7.45600223e-04],\n",
       "       [ 5.94541332e-04],\n",
       "       [ 4.68950634e-04],\n",
       "       [ 3.53512040e-04],\n",
       "       [ 2.31846045e-04],\n",
       "       [ 8.80990034e-05],\n",
       "       [-5.76231434e-05],\n",
       "       [-1.06632899e-04],\n",
       "       [-9.42799934e-05],\n",
       "       [-1.53683664e-04],\n",
       "       [-2.18762205e-04],\n",
       "       [-1.94482397e-04],\n",
       "       [-1.97922365e-04],\n",
       "       [-2.71547150e-04],\n",
       "       [-2.97677645e-04],\n",
       "       [-2.68480338e-04],\n",
       "       [-1.54366068e-04],\n",
       "       [ 1.36942334e-04],\n",
       "       [ 3.27508709e-04],\n",
       "       [ 8.01815013e-05],\n",
       "       [-2.10879187e-04],\n",
       "       [ 1.46732079e-06],\n",
       "       [ 3.80296605e-04],\n",
       "       [ 3.51599511e-04],\n",
       "       [ 1.08737432e-04],\n",
       "       [ 6.06081340e-05],\n",
       "       [ 1.59159894e-04],\n",
       "       [ 2.80893125e-04],\n",
       "       [ 3.80150018e-04],\n",
       "       [ 2.45592991e-04],\n",
       "       [-1.58484060e-04],\n",
       "       [-4.79143189e-04],\n",
       "       [-5.44898013e-04],\n",
       "       [-5.88761206e-04],\n",
       "       [-7.29738778e-04],\n",
       "       [-7.35875059e-04],\n",
       "       [-4.04780595e-04],\n",
       "       [ 4.11629637e-05],\n",
       "       [ 1.77535908e-04],\n",
       "       [ 8.32868423e-05],\n",
       "       [ 2.86692071e-04],\n",
       "       [ 7.96315507e-04],\n",
       "       [ 1.07073828e-03],\n",
       "       [ 1.01494021e-03],\n",
       "       [ 8.96945234e-04],\n",
       "       [ 5.88060268e-04],\n",
       "       [-3.92764959e-06],\n",
       "       [-4.43600225e-04],\n",
       "       [-5.16669376e-04],\n",
       "       [-5.37911755e-04],\n",
       "       [-6.12370051e-04],\n",
       "       [-5.57432557e-04],\n",
       "       [-4.37455039e-04],\n",
       "       [-4.24993625e-04],\n",
       "       [-4.44980177e-04],\n",
       "       [-3.39438030e-04],\n",
       "       [-1.13717581e-04],\n",
       "       [ 7.80491226e-05],\n",
       "       [ 1.43793910e-04],\n",
       "       [ 2.06517401e-04],\n",
       "       [ 3.29988633e-04],\n",
       "       [ 3.20958585e-04],\n",
       "       [ 1.77683268e-04],\n",
       "       [ 2.14388173e-04],\n",
       "       [ 4.18800587e-04],\n",
       "       [ 4.33870759e-04],\n",
       "       [ 2.61380884e-04],\n",
       "       [ 1.87013534e-04],\n",
       "       [ 1.94872003e-04],\n",
       "       [ 8.68601243e-05],\n",
       "       [-1.53765828e-04],\n",
       "       [-4.14369882e-04],\n",
       "       [-5.38087533e-04],\n",
       "       [-4.17923606e-04],\n",
       "       [-2.27307784e-04],\n",
       "       [-2.49871180e-04],\n",
       "       [-3.74972534e-04],\n",
       "       [-1.99734550e-04],\n",
       "       [ 2.77979070e-04],\n",
       "       [ 5.60238253e-04],\n",
       "       [ 4.16391296e-04],\n",
       "       [ 2.20487978e-04],\n",
       "       [ 2.61784611e-04],\n",
       "       [ 3.05276535e-04],\n",
       "       [ 1.10691735e-04],\n",
       "       [-1.77337549e-04],\n",
       "       [-3.02714752e-04],\n",
       "       [-1.90164157e-04],\n",
       "       [-3.69406120e-05],\n",
       "       [-1.28684796e-04],\n",
       "       [-3.74472010e-04],\n",
       "       [-4.37214441e-04],\n",
       "       [-3.75612120e-04],\n",
       "       [-3.96660401e-04],\n",
       "       [-2.91707575e-04],\n",
       "       [ 5.73511712e-05],\n",
       "       [ 3.53519288e-04],\n",
       "       [ 5.27863571e-04],\n",
       "       [ 6.74283177e-04],\n",
       "       [ 5.54376406e-04],\n",
       "       [ 2.12820799e-04],\n",
       "       [ 2.04998066e-04],\n",
       "       [ 5.10241206e-04],\n",
       "       [ 5.05451671e-04],\n",
       "       [ 1.41816119e-04],\n",
       "       [-1.65085090e-04],\n",
       "       [-3.83279257e-04],\n",
       "       [-5.96004581e-04],\n",
       "       [-6.21960649e-04],\n",
       "       [-4.52480426e-04],\n",
       "       [-3.51077725e-04],\n",
       "       [-3.70146783e-04],\n",
       "       [-3.02727438e-04],\n",
       "       [-9.40548485e-05],\n",
       "       [ 7.19814598e-05],\n",
       "       [ 1.38636929e-04],\n",
       "       [ 2.76716305e-04],\n",
       "       [ 4.57569464e-04],\n",
       "       [ 4.22370992e-04],\n",
       "       [ 2.43454542e-04],\n",
       "       [ 2.22451809e-04],\n",
       "       [ 2.50514684e-04],\n",
       "       [ 5.83081967e-05],\n",
       "       [-1.96950712e-04],\n",
       "       [-2.55844803e-04],\n",
       "       [-1.86592451e-04],\n",
       "       [-1.66493884e-04],\n",
       "       [-2.58873677e-04],\n",
       "       [-3.63592732e-04],\n",
       "       [-2.76144727e-04],\n",
       "       [-3.05070240e-05],\n",
       "       [ 1.18433445e-04],\n",
       "       [ 1.72554215e-04],\n",
       "       [ 2.61082040e-04],\n",
       "       [ 2.82144274e-04],\n",
       "       [ 2.37268273e-04],\n",
       "       [ 2.92266886e-04],\n",
       "       [ 3.27292870e-04],\n",
       "       [ 2.14473075e-04],\n",
       "       [ 1.50569075e-04],\n",
       "       [ 1.45334866e-04],\n",
       "       [ 2.42253146e-05],\n",
       "       [-5.84042243e-05],\n",
       "       [-3.50612705e-05],\n",
       "       [-1.75682223e-04],\n",
       "       [-3.80838001e-04],\n",
       "       [-3.74276863e-04],\n",
       "       [-4.16601537e-04],\n",
       "       [-6.32184755e-04],\n",
       "       [-5.79872586e-04],\n",
       "       [-2.76327290e-04],\n",
       "       [-2.06408175e-04],\n",
       "       [-2.45309623e-04],\n",
       "       [-2.96745837e-05],\n",
       "       [ 2.31542543e-04],\n",
       "       [ 3.40509298e-04],\n",
       "       [ 4.71801764e-04],\n",
       "       [ 6.11920791e-04],\n",
       "       [ 6.12441668e-04],\n",
       "       [ 5.22399502e-04],\n",
       "       [ 3.74078720e-04],\n",
       "       [ 2.37272038e-04],\n",
       "       [ 3.01011674e-04],\n",
       "       [ 3.74904729e-04],\n",
       "       [ 9.06038723e-05],\n",
       "       [-2.65459783e-04],\n",
       "       [-2.23129382e-04],\n",
       "       [-7.81449021e-05],\n",
       "       [-2.76157370e-04],\n",
       "       [-5.52452466e-04],\n",
       "       [-5.41170736e-04],\n",
       "       [-4.42375909e-04],\n",
       "       [-5.24605622e-04],\n",
       "       [-6.28918613e-04],\n",
       "       [-5.03994015e-04],\n",
       "       [-1.95860686e-04],\n",
       "       [ 1.12027711e-04],\n",
       "       [ 3.63143147e-04],\n",
       "       [ 5.64865329e-04],\n",
       "       [ 6.83655706e-04],\n",
       "       [ 6.97820635e-04],\n",
       "       [ 5.89068336e-04],\n",
       "       [ 3.64852304e-04],\n",
       "       [ 1.50707125e-04],\n",
       "       [ 6.44468062e-06],\n",
       "       [-1.92061500e-04],\n",
       "       [-4.14123459e-04],\n",
       "       [-4.68122980e-04],\n",
       "       [-4.24299305e-04],\n",
       "       [-4.27343010e-04],\n",
       "       [-3.61543400e-04],\n",
       "       [-2.22274378e-04],\n",
       "       [-1.89332662e-04],\n",
       "       [-1.73025862e-04],\n",
       "       [-1.16805273e-05],\n",
       "       [ 2.24225941e-04],\n",
       "       [ 5.73787248e-04],\n",
       "       [ 1.07405964e-03],\n",
       "       [ 1.33280788e-03],\n",
       "       [ 1.00819958e-03],\n",
       "       [ 3.06622345e-04],\n",
       "       [-3.40820201e-04],\n",
       "       [-5.78052875e-04],\n",
       "       [-4.06398392e-04],\n",
       "       [-3.76761381e-04],\n",
       "       [-7.62981039e-04],\n",
       "       [-1.04799993e-03],\n",
       "       [-9.65015596e-04],\n",
       "       [-7.91061196e-04],\n",
       "       [-3.92696539e-04],\n",
       "       [ 3.37768331e-04],\n",
       "       [ 7.20940210e-04],\n",
       "       [ 5.03078174e-04],\n",
       "       [ 3.90866300e-04],\n",
       "       [ 5.17606861e-04],\n",
       "       [ 3.24662234e-04],\n",
       "       [-2.18155345e-05],\n",
       "       [-2.40196140e-05],\n",
       "       [ 5.34045986e-05],\n",
       "       [-9.40180912e-05],\n",
       "       [-1.29192757e-04],\n",
       "       [ 1.25862757e-04],\n",
       "       [ 3.62618951e-04],\n",
       "       [ 4.25231476e-04],\n",
       "       [ 3.83189527e-04],\n",
       "       [ 2.07904437e-04],\n",
       "       [-3.47857403e-05],\n",
       "       [-1.03450608e-04],\n",
       "       [-5.41857324e-05],\n",
       "       [-2.63761432e-04],\n",
       "       [-7.05337302e-04],\n",
       "       [-8.37600043e-04],\n",
       "       [-5.08956356e-04],\n",
       "       [-2.14873952e-04],\n",
       "       [-1.77062699e-04],\n",
       "       [-5.66479836e-05],\n",
       "       [ 2.37187856e-04],\n",
       "       [ 3.96046856e-04],\n",
       "       [ 3.66771579e-04],\n",
       "       [ 3.44763816e-04],\n",
       "       [ 3.50174400e-04],\n",
       "       [ 3.32995307e-04],\n",
       "       [ 3.04427392e-04],\n",
       "       [ 2.27109846e-04],\n",
       "       [ 1.42466795e-04],\n",
       "       [ 1.49143713e-04],\n",
       "       [ 1.00139590e-04],\n",
       "       [-1.64041987e-04],\n",
       "       [-4.44054003e-04],\n",
       "       [-5.46893579e-04],\n",
       "       [-5.45473657e-04],\n",
       "       [-4.45585385e-04],\n",
       "       [-2.41326120e-04],\n",
       "       [-1.32396047e-04],\n",
       "       [-1.48306349e-04],\n",
       "       [-9.06480726e-05],\n",
       "       [-3.24053701e-06],\n",
       "       [ 8.35813001e-06],\n",
       "       [ 9.21288771e-05],\n",
       "       [ 2.38091390e-04],\n",
       "       [ 2.80366574e-04],\n",
       "       [ 3.73567903e-04],\n",
       "       [ 6.09940106e-04],\n",
       "       [ 7.05664094e-04],\n",
       "       [ 6.64199301e-04],\n",
       "       [ 7.02577145e-04],\n",
       "       [ 5.26319876e-04],\n",
       "       [-5.64198429e-05],\n",
       "       [-5.11101306e-04],\n",
       "       [-6.08637608e-04],\n",
       "       [-7.88630296e-04],\n",
       "       [-1.03501622e-03],\n",
       "       [-9.41213832e-04],\n",
       "       [-6.61241865e-04],\n",
       "       [-4.47493029e-04],\n",
       "       [-1.09326958e-04],\n",
       "       [ 2.60153263e-04],\n",
       "       [ 2.87717719e-04],\n",
       "       [ 2.14725685e-04],\n",
       "       [ 4.65702170e-04],\n",
       "       [ 7.44691100e-04],\n",
       "       [ 6.76328749e-04],\n",
       "       [ 5.24210620e-04],\n",
       "       [ 4.77449782e-04],\n",
       "       [ 2.31657436e-04],\n",
       "       [-2.23302878e-04],\n",
       "       [-4.08488710e-04],\n",
       "       [-2.26408642e-04],\n",
       "       [-1.23784155e-04],\n",
       "       [-2.64519191e-04],\n",
       "       [-3.41431842e-04],\n",
       "       [-2.34719687e-04],\n",
       "       [-1.38029493e-04],\n",
       "       [-9.12064386e-05],\n",
       "       [-2.08489915e-06],\n",
       "       [ 6.48090560e-05],\n",
       "       [ 7.29117696e-05],\n",
       "       [ 1.08038745e-04],\n",
       "       [ 9.73310453e-05],\n",
       "       [-2.63200973e-05],\n",
       "       [-3.29370675e-05],\n",
       "       [ 1.55685249e-04],\n",
       "       [ 2.27615771e-04],\n",
       "       [ 8.60441756e-05],\n",
       "       [-3.60493405e-05],\n",
       "       [-9.16904294e-05],\n",
       "       [-1.51427395e-04],\n",
       "       [-1.78558283e-04],\n",
       "       [-1.93570389e-04],\n",
       "       [-1.14940815e-04],\n",
       "       [ 2.28379947e-04],\n",
       "       [ 5.01595187e-04],\n",
       "       [ 2.49114245e-04],\n",
       "       [-1.54502257e-04],\n",
       "       [-1.59104502e-04],\n",
       "       [ 4.36319688e-05],\n",
       "       [ 2.02888586e-04],\n",
       "       [ 3.66707464e-04],\n",
       "       [ 3.08429942e-04],\n",
       "       [-6.18727354e-05],\n",
       "       [-3.09932470e-04],\n",
       "       [-3.69203437e-04],\n",
       "       [-5.65312619e-04],\n",
       "       [-6.96030812e-04],\n",
       "       [-4.72097028e-04],\n",
       "       [-1.61482601e-04],\n",
       "       [ 6.77536059e-05],\n",
       "       [ 2.86347799e-04],\n",
       "       [ 3.12578381e-04],\n",
       "       [ 1.84846106e-04],\n",
       "       [ 3.05695865e-04],\n",
       "       [ 5.67454052e-04],\n",
       "       [ 5.45833366e-04],\n",
       "       [ 3.61075410e-04],\n",
       "       [ 2.40298736e-04],\n",
       "       [-1.87468927e-06],\n",
       "       [-3.90282058e-04],\n",
       "       [-6.18464680e-04],\n",
       "       [-5.92927474e-04],\n",
       "       [-4.64249948e-04],\n",
       "       [-2.66689195e-04],\n",
       "       [ 8.79641747e-05],\n",
       "       [ 4.76664856e-04],\n",
       "       [ 4.99329344e-04],\n",
       "       [ 1.55423705e-04],\n",
       "       [ 1.01535146e-04],\n",
       "       [ 4.72824024e-04],\n",
       "       [ 4.98305388e-04],\n",
       "       [ 7.81517436e-05],\n",
       "       [ 5.84539709e-06],\n",
       "       [ 1.97111655e-04],\n",
       "       [-1.21051084e-04],\n",
       "       [-6.84389714e-04],\n",
       "       [-7.81698202e-04],\n",
       "       [-6.56217449e-04],\n",
       "       [-7.35874723e-04],\n",
       "       [-7.81432716e-04],\n",
       "       [-5.65021426e-04],\n",
       "       [-1.67091045e-04],\n",
       "       [ 3.33506185e-04],\n",
       "       [ 7.22748053e-04],\n",
       "       [ 8.00385309e-04],\n",
       "       [ 7.40816931e-04],\n",
       "       [ 6.86485732e-04],\n",
       "       [ 5.34704410e-04],\n",
       "       [ 4.00192631e-04],\n",
       "       [ 4.26159805e-04],\n",
       "       [ 3.65722428e-04],\n",
       "       [ 8.84133640e-05],\n",
       "       [-1.58058206e-04],\n",
       "       [-3.04609556e-04],\n",
       "       [-4.74436650e-04],\n",
       "       [-5.96569847e-04],\n",
       "       [-5.89656520e-04],\n",
       "       [-4.91437595e-04],\n",
       "       [-2.83112585e-04],\n",
       "       [-3.24449265e-05],\n",
       "       [ 7.54882990e-05],\n",
       "       [ 4.45993604e-05],\n",
       "       [ 1.66365202e-06],\n",
       "       [ 5.98553958e-06],\n",
       "       [ 1.22292740e-04],\n",
       "       [ 2.64880694e-04],\n",
       "       [ 1.81163994e-04],\n",
       "       [-6.18778729e-05],\n",
       "       [-1.67262795e-04],\n",
       "       [-1.64592961e-04],\n",
       "       [-1.62668903e-04],\n",
       "       [-4.09449493e-05],\n",
       "       [ 1.21974606e-04],\n",
       "       [ 1.22165508e-04]])"
      ]
     },
     "execution_count": 347,
     "metadata": {},
     "output_type": "execute_result"
    }
   ],
   "source": [
    "values_eeg1[0]['filtered']"
   ]
  },
  {
   "cell_type": "markdown",
   "metadata": {},
   "source": [
    "# testing features"
   ]
  },
  {
   "cell_type": "code",
   "execution_count": 61,
   "metadata": {},
   "outputs": [],
   "source": [
    "import numpy as np\n",
    "import pandas as pd\n",
    "import yaml\n",
    "import matplotlib.pyplot as plt\n",
    "import sklearn\n",
    "from sklearn.metrics import balanced_accuracy_score\n",
    "from sklearn.impute import SimpleImputer\n",
    "from xgboost import XGBClassifier\n",
    "from sklearn.svm import SVC, NuSVC\n",
    "\n",
    "from sklearn.multiclass import OneVsRestClassifier"
   ]
  },
  {
   "cell_type": "code",
   "execution_count": 62,
   "metadata": {},
   "outputs": [],
   "source": [
    "from sklearn.model_selection import GridSearchCV, train_test_split\n",
    "from sklearn.preprocessing import Normalizer, StandardScaler, RobustScaler\n",
    "from sklearn.feature_selection import SelectFromModel\n",
    "from sklearn.feature_selection import SelectKBest\n",
    "\n",
    "from imblearn.pipeline import Pipeline\n",
    "from imblearn import FunctionSampler\n",
    "from sklearn.ensemble import IsolationForest\n",
    "\n",
    "from sklearn.decomposition import PCA"
   ]
  },
  {
   "cell_type": "code",
   "execution_count": 63,
   "metadata": {},
   "outputs": [],
   "source": [
    "## SPLIT FUNCTIONS FOR CV ##\n",
    "\n",
    "def split_df(df, n) :\n",
    "    '''\n",
    "    df: dataframe to shuffle and split\n",
    "    n: amount of to be splitted pieces\n",
    "    splits: list of dataframes (splits)\n",
    "    '''\n",
    "    # defining list with optimal cutting points\n",
    "    split_points = list(map( lambda x: int(x*len(df)/n), (list(range(1,n)))))  \n",
    "    # shuffling the df, then splitting it from split_points\n",
    "    splits = list(np.split(df.sample(frac=1), split_points))\n",
    "    return splits\n",
    "\n",
    "def make_train_and_test(splits, index) :\n",
    "    '''\n",
    "    Take splits from splitDf, and return into test set (splits[index])\n",
    "    and training set (the rest)\n",
    "    '''\n",
    "    \n",
    "    # index is zero based, so range 0-9 for 10 fold split\n",
    "    test = splits[index]\n",
    "\n",
    "    left_lst = splits[:index]\n",
    "    right_lst = splits[index+1:]\n",
    "\n",
    "    train = pd.concat(left_lst+right_lst)\n",
    "    return train, test"
   ]
  },
  {
   "cell_type": "code",
   "execution_count": 422,
   "metadata": {},
   "outputs": [],
   "source": [
    "features_train_50 = pd.read_csv('./sklearn_models/features/features_train_50.csv')"
   ]
  },
  {
   "cell_type": "code",
   "execution_count": 423,
   "metadata": {},
   "outputs": [
    {
     "data": {
      "text/html": [
       "<div>\n",
       "<style scoped>\n",
       "    .dataframe tbody tr th:only-of-type {\n",
       "        vertical-align: middle;\n",
       "    }\n",
       "\n",
       "    .dataframe tbody tr th {\n",
       "        vertical-align: top;\n",
       "    }\n",
       "\n",
       "    .dataframe thead th {\n",
       "        text-align: right;\n",
       "    }\n",
       "</style>\n",
       "<table border=\"1\" class=\"dataframe\">\n",
       "  <thead>\n",
       "    <tr style=\"text-align: right;\">\n",
       "      <th></th>\n",
       "      <th>mean_eeg1</th>\n",
       "      <th>min_eeg1</th>\n",
       "      <th>max_eeg1</th>\n",
       "      <th>std_eeg1</th>\n",
       "      <th>median_eeg1</th>\n",
       "      <th>mean_eeg2</th>\n",
       "      <th>min_eeg2</th>\n",
       "      <th>max_eeg2</th>\n",
       "      <th>std_eeg2</th>\n",
       "      <th>median_eeg2</th>\n",
       "      <th>...</th>\n",
       "      <th>corr_max_2_eeg2</th>\n",
       "      <th>corr_min_2_eeg1</th>\n",
       "      <th>corr_min_2_eeg2</th>\n",
       "      <th>corr1_2_eeg1</th>\n",
       "      <th>corr1_2_eeg2</th>\n",
       "      <th>corr2_2_eeg1</th>\n",
       "      <th>corr2_2_eeg2</th>\n",
       "      <th>corr3_2_eeg1</th>\n",
       "      <th>corr3_2_eeg2</th>\n",
       "      <th>consists_emg_onset</th>\n",
       "    </tr>\n",
       "  </thead>\n",
       "  <tbody>\n",
       "    <tr>\n",
       "      <th>0</th>\n",
       "      <td>-5.349145e-07</td>\n",
       "      <td>-0.001048</td>\n",
       "      <td>0.001333</td>\n",
       "      <td>0.000397</td>\n",
       "      <td>0.000002</td>\n",
       "      <td>0.000001</td>\n",
       "      <td>-0.000819</td>\n",
       "      <td>0.001288</td>\n",
       "      <td>0.000360</td>\n",
       "      <td>-0.000011</td>\n",
       "      <td>...</td>\n",
       "      <td>0.000066</td>\n",
       "      <td>-0.000053</td>\n",
       "      <td>-0.000046</td>\n",
       "      <td>0.035597</td>\n",
       "      <td>0.038000</td>\n",
       "      <td>-0.002144</td>\n",
       "      <td>0.009919</td>\n",
       "      <td>0.024656</td>\n",
       "      <td>0.008888</td>\n",
       "      <td>0</td>\n",
       "    </tr>\n",
       "    <tr>\n",
       "      <th>1</th>\n",
       "      <td>5.238850e-06</td>\n",
       "      <td>-0.001115</td>\n",
       "      <td>0.001248</td>\n",
       "      <td>0.000444</td>\n",
       "      <td>-0.000034</td>\n",
       "      <td>0.000003</td>\n",
       "      <td>-0.000970</td>\n",
       "      <td>0.001331</td>\n",
       "      <td>0.000357</td>\n",
       "      <td>-0.000007</td>\n",
       "      <td>...</td>\n",
       "      <td>0.000065</td>\n",
       "      <td>-0.000060</td>\n",
       "      <td>-0.000039</td>\n",
       "      <td>-0.030121</td>\n",
       "      <td>-0.049730</td>\n",
       "      <td>-0.008806</td>\n",
       "      <td>-0.015336</td>\n",
       "      <td>0.012618</td>\n",
       "      <td>-0.004675</td>\n",
       "      <td>0</td>\n",
       "    </tr>\n",
       "    <tr>\n",
       "      <th>2</th>\n",
       "      <td>-8.900721e-06</td>\n",
       "      <td>-0.001174</td>\n",
       "      <td>0.001313</td>\n",
       "      <td>0.000459</td>\n",
       "      <td>-0.000052</td>\n",
       "      <td>-0.000007</td>\n",
       "      <td>-0.001097</td>\n",
       "      <td>0.001089</td>\n",
       "      <td>0.000394</td>\n",
       "      <td>-0.000041</td>\n",
       "      <td>...</td>\n",
       "      <td>0.000080</td>\n",
       "      <td>-0.000061</td>\n",
       "      <td>-0.000046</td>\n",
       "      <td>-0.018091</td>\n",
       "      <td>-0.001299</td>\n",
       "      <td>-0.058309</td>\n",
       "      <td>-0.071767</td>\n",
       "      <td>-0.020808</td>\n",
       "      <td>-0.038337</td>\n",
       "      <td>0</td>\n",
       "    </tr>\n",
       "    <tr>\n",
       "      <th>3</th>\n",
       "      <td>7.052108e-06</td>\n",
       "      <td>-0.001073</td>\n",
       "      <td>0.001597</td>\n",
       "      <td>0.000450</td>\n",
       "      <td>-0.000012</td>\n",
       "      <td>0.000008</td>\n",
       "      <td>-0.001044</td>\n",
       "      <td>0.001467</td>\n",
       "      <td>0.000428</td>\n",
       "      <td>-0.000025</td>\n",
       "      <td>...</td>\n",
       "      <td>0.000094</td>\n",
       "      <td>-0.000055</td>\n",
       "      <td>-0.000054</td>\n",
       "      <td>0.008554</td>\n",
       "      <td>-0.007510</td>\n",
       "      <td>0.001513</td>\n",
       "      <td>0.029931</td>\n",
       "      <td>-0.048247</td>\n",
       "      <td>-0.046283</td>\n",
       "      <td>0</td>\n",
       "    </tr>\n",
       "    <tr>\n",
       "      <th>4</th>\n",
       "      <td>3.591152e-06</td>\n",
       "      <td>-0.001163</td>\n",
       "      <td>0.001224</td>\n",
       "      <td>0.000460</td>\n",
       "      <td>-0.000038</td>\n",
       "      <td>0.000003</td>\n",
       "      <td>-0.001006</td>\n",
       "      <td>0.001072</td>\n",
       "      <td>0.000436</td>\n",
       "      <td>-0.000033</td>\n",
       "      <td>...</td>\n",
       "      <td>0.000097</td>\n",
       "      <td>-0.000076</td>\n",
       "      <td>-0.000067</td>\n",
       "      <td>0.002172</td>\n",
       "      <td>-0.007226</td>\n",
       "      <td>-0.044430</td>\n",
       "      <td>-0.065203</td>\n",
       "      <td>-0.025181</td>\n",
       "      <td>-0.031156</td>\n",
       "      <td>0</td>\n",
       "    </tr>\n",
       "  </tbody>\n",
       "</table>\n",
       "<p>5 rows × 50 columns</p>\n",
       "</div>"
      ],
      "text/plain": [
       "      mean_eeg1  min_eeg1  max_eeg1  std_eeg1  median_eeg1  mean_eeg2  \\\n",
       "0 -5.349145e-07 -0.001048  0.001333  0.000397     0.000002   0.000001   \n",
       "1  5.238850e-06 -0.001115  0.001248  0.000444    -0.000034   0.000003   \n",
       "2 -8.900721e-06 -0.001174  0.001313  0.000459    -0.000052  -0.000007   \n",
       "3  7.052108e-06 -0.001073  0.001597  0.000450    -0.000012   0.000008   \n",
       "4  3.591152e-06 -0.001163  0.001224  0.000460    -0.000038   0.000003   \n",
       "\n",
       "   min_eeg2  max_eeg2  std_eeg2  median_eeg2  ...  corr_max_2_eeg2  \\\n",
       "0 -0.000819  0.001288  0.000360    -0.000011  ...         0.000066   \n",
       "1 -0.000970  0.001331  0.000357    -0.000007  ...         0.000065   \n",
       "2 -0.001097  0.001089  0.000394    -0.000041  ...         0.000080   \n",
       "3 -0.001044  0.001467  0.000428    -0.000025  ...         0.000094   \n",
       "4 -0.001006  0.001072  0.000436    -0.000033  ...         0.000097   \n",
       "\n",
       "   corr_min_2_eeg1  corr_min_2_eeg2  corr1_2_eeg1  corr1_2_eeg2  corr2_2_eeg1  \\\n",
       "0        -0.000053        -0.000046      0.035597      0.038000     -0.002144   \n",
       "1        -0.000060        -0.000039     -0.030121     -0.049730     -0.008806   \n",
       "2        -0.000061        -0.000046     -0.018091     -0.001299     -0.058309   \n",
       "3        -0.000055        -0.000054      0.008554     -0.007510      0.001513   \n",
       "4        -0.000076        -0.000067      0.002172     -0.007226     -0.044430   \n",
       "\n",
       "   corr2_2_eeg2  corr3_2_eeg1  corr3_2_eeg2  consists_emg_onset  \n",
       "0      0.009919      0.024656      0.008888                   0  \n",
       "1     -0.015336      0.012618     -0.004675                   0  \n",
       "2     -0.071767     -0.020808     -0.038337                   0  \n",
       "3      0.029931     -0.048247     -0.046283                   0  \n",
       "4     -0.065203     -0.025181     -0.031156                   0  \n",
       "\n",
       "[5 rows x 50 columns]"
      ]
     },
     "execution_count": 423,
     "metadata": {},
     "output_type": "execute_result"
    }
   ],
   "source": [
    "features_train_50.head()"
   ]
  },
  {
   "cell_type": "code",
   "execution_count": 60,
   "metadata": {},
   "outputs": [
    {
     "name": "stdout",
     "output_type": "stream",
     "text": [
      "64800\n",
      "11632\n"
     ]
    }
   ],
   "source": [
    "print(len(features_train_50))\n",
    "print(len(features_train_50[features_train_50['consists_emg_onset'] == 1]))"
   ]
  },
  {
   "cell_type": "code",
   "execution_count": 82,
   "metadata": {},
   "outputs": [],
   "source": [
    "train_df = pd.concat([features_train_50, y_train_df], axis=1)\n",
    "splits = split_df(train_df, 5)\n",
    "train, test = make_train_and_test(splits, 0)\n",
    "X_tr = train.drop(['Id', 'y'], axis=1).to_numpy()\n",
    "y_tr = train['y'].to_numpy()\n",
    "y_tr = y_tr-1\n",
    "X_te = test.drop(['Id', 'y'], axis=1).to_numpy()\n",
    "y_te = test['y'].to_numpy()\n",
    "y_te = y_te-1"
   ]
  },
  {
   "cell_type": "code",
   "execution_count": 83,
   "metadata": {},
   "outputs": [],
   "source": [
    "def isof(x, y):\n",
    "    model = IsolationForest()\n",
    "    y_pred = model.fit_predict(x)\n",
    "    return x[y_pred == 1], y[y_pred == 1]"
   ]
  },
  {
   "cell_type": "code",
   "execution_count": 84,
   "metadata": {},
   "outputs": [],
   "source": [
    "from sklearn.feature_selection import VarianceThreshold, GenericUnivariateSelect"
   ]
  },
  {
   "cell_type": "code",
   "execution_count": 85,
   "metadata": {},
   "outputs": [],
   "source": [
    "thresh = VarianceThreshold(threshold=0)\n",
    "X_tr = thresh.fit_transform(X_tr)"
   ]
  },
  {
   "cell_type": "code",
   "execution_count": 86,
   "metadata": {},
   "outputs": [],
   "source": [
    "X_tr, y_tr = isof(X_tr, y_tr)"
   ]
  },
  {
   "cell_type": "code",
   "execution_count": 87,
   "metadata": {},
   "outputs": [],
   "source": [
    "#-------------------"
   ]
  },
  {
   "cell_type": "code",
   "execution_count": 88,
   "metadata": {},
   "outputs": [],
   "source": [
    "from imblearn.under_sampling import RandomUnderSampler\n",
    "sampler = RandomUnderSampler()\n",
    "X_tr, y_tr = sampler.fit_resample(X_tr, y_tr)"
   ]
  },
  {
   "cell_type": "code",
   "execution_count": 89,
   "metadata": {},
   "outputs": [],
   "source": [
    "#from imblearn.over_sampling import RandomOverSampler\n",
    "#sampler = RandomOverSampler()\n",
    "#X_tr, y_tr = sampler.fit_resample(X_tr, y_tr)"
   ]
  },
  {
   "cell_type": "code",
   "execution_count": 90,
   "metadata": {},
   "outputs": [],
   "source": [
    "#from imblearn.combine import SMOTEENN, SMOTETomek\n",
    "#sampler = SMOTEENN()\n",
    "#X_tr, y_tr = sampler.fit_resample(X_tr, y_tr)"
   ]
  },
  {
   "cell_type": "code",
   "execution_count": 91,
   "metadata": {},
   "outputs": [],
   "source": [
    "#-------------------"
   ]
  },
  {
   "cell_type": "code",
   "execution_count": 92,
   "metadata": {},
   "outputs": [],
   "source": [
    "selection = GenericUnivariateSelect(mode='fdr', param=0.1)#, param=0.1, mode='fwe')\n",
    "X_tr = selection.fit_transform(X_tr, y_tr)"
   ]
  },
  {
   "cell_type": "code",
   "execution_count": 93,
   "metadata": {},
   "outputs": [],
   "source": [
    "scale = StandardScaler()\n",
    "X_tr = scale.fit_transform(X_tr)"
   ]
  },
  {
   "cell_type": "code",
   "execution_count": 94,
   "metadata": {},
   "outputs": [],
   "source": [
    "param_grid_xgb = [\n",
    "    {\n",
    "        'estimator__max_depth':[3]\n",
    "    }\n",
    "]"
   ]
  },
  {
   "cell_type": "code",
   "execution_count": 95,
   "metadata": {},
   "outputs": [],
   "source": [
    "# initial test XGBClassifier\n",
    "clf = OneVsRestClassifier(estimator = XGBClassifier(base_score=0.5, booster='gbtree', colsample_bylevel=1,\n",
    "                                colsample_bynode=1, colsample_bytree=1, gamma=0,\n",
    "                                importance_type='gain', learning_rate=0.1, max_delta_step=0,\n",
    "                                max_depth=3, min_child_weight=1, missing=None, n_estimators=100,\n",
    "                                n_jobs=1, nthread=None, random_state=0,\n",
    "                                reg_alpha=0, reg_lambda=1, seed=None,\n",
    "                                silent=None, subsample=1, verbosity=1))\n",
    "search = GridSearchCV(clf, param_grid=param_grid_xgb, n_jobs=-1, scoring='balanced_accuracy', cv=3, verbose=10)"
   ]
  },
  {
   "cell_type": "code",
   "execution_count": 96,
   "metadata": {
    "collapsed": true
   },
   "outputs": [
    {
     "name": "stdout",
     "output_type": "stream",
     "text": [
      "Fitting 3 folds for each of 1 candidates, totalling 3 fits\n"
     ]
    },
    {
     "name": "stderr",
     "output_type": "stream",
     "text": [
      "[Parallel(n_jobs=-1)]: Using backend LokyBackend with 8 concurrent workers.\n",
      "[Parallel(n_jobs=-1)]: Done   3 out of   3 | elapsed:    6.4s remaining:    0.0s\n",
      "[Parallel(n_jobs=-1)]: Done   3 out of   3 | elapsed:    6.4s finished\n"
     ]
    },
    {
     "data": {
      "text/plain": [
       "GridSearchCV(cv=3,\n",
       "             estimator=OneVsRestClassifier(estimator=XGBClassifier(base_score=0.5,\n",
       "                                                                   booster='gbtree',\n",
       "                                                                   colsample_bylevel=1,\n",
       "                                                                   colsample_bynode=1,\n",
       "                                                                   colsample_bytree=1,\n",
       "                                                                   gamma=0,\n",
       "                                                                   gpu_id=None,\n",
       "                                                                   importance_type='gain',\n",
       "                                                                   interaction_constraints=None,\n",
       "                                                                   learning_rate=0.1,\n",
       "                                                                   max_delta_step=0,\n",
       "                                                                   max_depth=3,\n",
       "                                                                   min_child_weight=1,\n",
       "                                                                   missing=None,\n",
       "                                                                   monotone_constraints=None,\n",
       "                                                                   n_estimators=100,\n",
       "                                                                   n_jobs=1,\n",
       "                                                                   nthread=None,\n",
       "                                                                   num_parallel_tree=None,\n",
       "                                                                   random_state=0,\n",
       "                                                                   reg_alpha=0,\n",
       "                                                                   reg_lambda=1,\n",
       "                                                                   scale_pos_weight=None,\n",
       "                                                                   seed=None,\n",
       "                                                                   silent=None,\n",
       "                                                                   subsample=1,\n",
       "                                                                   tree_method=None,\n",
       "                                                                   validate_parameters=None,\n",
       "                                                                   verbosity=1)),\n",
       "             n_jobs=-1, param_grid=[{'estimator__max_depth': [3]}],\n",
       "             scoring='balanced_accuracy', verbose=10)"
      ]
     },
     "execution_count": 96,
     "metadata": {},
     "output_type": "execute_result"
    }
   ],
   "source": [
    "search.fit(X_tr, y_tr)"
   ]
  },
  {
   "cell_type": "code",
   "execution_count": 97,
   "metadata": {},
   "outputs": [
    {
     "name": "stdout",
     "output_type": "stream",
     "text": [
      "Best balanced_accuracy score:  0.9358024691358025\n",
      "Best parameters set: {'estimator__max_depth': 3}\n"
     ]
    }
   ],
   "source": [
    "print('Best', search.scoring, 'score: ', search.best_score_)\n",
    "print(\"Best parameters set:\", search.best_params_)"
   ]
  },
  {
   "cell_type": "code",
   "execution_count": 98,
   "metadata": {},
   "outputs": [
    {
     "name": "stdout",
     "output_type": "stream",
     "text": [
      "Test BMAC: 0.940035356482912\n"
     ]
    }
   ],
   "source": [
    "from sklearn.metrics import balanced_accuracy_score\n",
    "\n",
    "X_te = thresh.transform(X_te)\n",
    "X_te = selection.transform(X_te)\n",
    "X_te = scale.transform(X_te)\n",
    "\n",
    "predicted = search.predict(X_te)\n",
    "test_score = balanced_accuracy_score(y_te, predicted)\n",
    "print('Test BMAC: {}'.format(test_score))"
   ]
  },
  {
   "cell_type": "markdown",
   "metadata": {},
   "source": [
    "# -- create sub file --"
   ]
  },
  {
   "cell_type": "code",
   "execution_count": 101,
   "metadata": {},
   "outputs": [],
   "source": [
    "features_test_50 = pd.read_csv('./sklearn_models/features/features_test_50.csv')"
   ]
  },
  {
   "cell_type": "code",
   "execution_count": 102,
   "metadata": {},
   "outputs": [
    {
     "data": {
      "text/html": [
       "<div>\n",
       "<style scoped>\n",
       "    .dataframe tbody tr th:only-of-type {\n",
       "        vertical-align: middle;\n",
       "    }\n",
       "\n",
       "    .dataframe tbody tr th {\n",
       "        vertical-align: top;\n",
       "    }\n",
       "\n",
       "    .dataframe thead th {\n",
       "        text-align: right;\n",
       "    }\n",
       "</style>\n",
       "<table border=\"1\" class=\"dataframe\">\n",
       "  <thead>\n",
       "    <tr style=\"text-align: right;\">\n",
       "      <th></th>\n",
       "      <th>mean_eeg1</th>\n",
       "      <th>min_eeg1</th>\n",
       "      <th>max_eeg1</th>\n",
       "      <th>std_eeg1</th>\n",
       "      <th>median_eeg1</th>\n",
       "      <th>mean_eeg2</th>\n",
       "      <th>min_eeg2</th>\n",
       "      <th>max_eeg2</th>\n",
       "      <th>std_eeg2</th>\n",
       "      <th>median_eeg2</th>\n",
       "      <th>...</th>\n",
       "      <th>corr_max_2_eeg2</th>\n",
       "      <th>corr_min_2_eeg1</th>\n",
       "      <th>corr_min_2_eeg2</th>\n",
       "      <th>corr1_2_eeg1</th>\n",
       "      <th>corr1_2_eeg2</th>\n",
       "      <th>corr2_2_eeg1</th>\n",
       "      <th>corr2_2_eeg2</th>\n",
       "      <th>corr3_2_eeg1</th>\n",
       "      <th>corr3_2_eeg2</th>\n",
       "      <th>consists_emg_onset</th>\n",
       "    </tr>\n",
       "  </thead>\n",
       "  <tbody>\n",
       "    <tr>\n",
       "      <th>0</th>\n",
       "      <td>0.000002</td>\n",
       "      <td>-0.000934</td>\n",
       "      <td>0.000964</td>\n",
       "      <td>0.000328</td>\n",
       "      <td>0.000014</td>\n",
       "      <td>1.886587e-07</td>\n",
       "      <td>-0.000895</td>\n",
       "      <td>0.000927</td>\n",
       "      <td>0.000312</td>\n",
       "      <td>0.000001</td>\n",
       "      <td>...</td>\n",
       "      <td>0.000050</td>\n",
       "      <td>-0.000033</td>\n",
       "      <td>-0.000027</td>\n",
       "      <td>-0.010201</td>\n",
       "      <td>-0.033260</td>\n",
       "      <td>0.001880</td>\n",
       "      <td>0.025034</td>\n",
       "      <td>0.001727</td>\n",
       "      <td>-0.008683</td>\n",
       "      <td>0</td>\n",
       "    </tr>\n",
       "    <tr>\n",
       "      <th>1</th>\n",
       "      <td>0.000006</td>\n",
       "      <td>-0.000832</td>\n",
       "      <td>0.001033</td>\n",
       "      <td>0.000349</td>\n",
       "      <td>0.000002</td>\n",
       "      <td>2.871827e-06</td>\n",
       "      <td>-0.001220</td>\n",
       "      <td>0.000972</td>\n",
       "      <td>0.000320</td>\n",
       "      <td>0.000003</td>\n",
       "      <td>...</td>\n",
       "      <td>0.000052</td>\n",
       "      <td>-0.000031</td>\n",
       "      <td>-0.000024</td>\n",
       "      <td>-0.011701</td>\n",
       "      <td>-0.003912</td>\n",
       "      <td>0.019401</td>\n",
       "      <td>-0.009471</td>\n",
       "      <td>-0.009203</td>\n",
       "      <td>-0.000688</td>\n",
       "      <td>0</td>\n",
       "    </tr>\n",
       "    <tr>\n",
       "      <th>2</th>\n",
       "      <td>-0.000002</td>\n",
       "      <td>-0.001041</td>\n",
       "      <td>0.000935</td>\n",
       "      <td>0.000317</td>\n",
       "      <td>0.000002</td>\n",
       "      <td>-2.297048e-06</td>\n",
       "      <td>-0.000733</td>\n",
       "      <td>0.000928</td>\n",
       "      <td>0.000296</td>\n",
       "      <td>-0.000012</td>\n",
       "      <td>...</td>\n",
       "      <td>0.000045</td>\n",
       "      <td>-0.000026</td>\n",
       "      <td>-0.000018</td>\n",
       "      <td>0.014712</td>\n",
       "      <td>0.074491</td>\n",
       "      <td>0.039002</td>\n",
       "      <td>-0.006610</td>\n",
       "      <td>-0.044213</td>\n",
       "      <td>-0.024358</td>\n",
       "      <td>0</td>\n",
       "    </tr>\n",
       "    <tr>\n",
       "      <th>3</th>\n",
       "      <td>0.000008</td>\n",
       "      <td>-0.001109</td>\n",
       "      <td>0.000829</td>\n",
       "      <td>0.000318</td>\n",
       "      <td>0.000006</td>\n",
       "      <td>2.462336e-06</td>\n",
       "      <td>-0.001177</td>\n",
       "      <td>0.001146</td>\n",
       "      <td>0.000293</td>\n",
       "      <td>-0.000016</td>\n",
       "      <td>...</td>\n",
       "      <td>0.000044</td>\n",
       "      <td>-0.000025</td>\n",
       "      <td>-0.000020</td>\n",
       "      <td>-0.013848</td>\n",
       "      <td>0.010276</td>\n",
       "      <td>0.014624</td>\n",
       "      <td>-0.014965</td>\n",
       "      <td>0.006360</td>\n",
       "      <td>-0.010876</td>\n",
       "      <td>0</td>\n",
       "    </tr>\n",
       "    <tr>\n",
       "      <th>4</th>\n",
       "      <td>-0.000003</td>\n",
       "      <td>-0.000964</td>\n",
       "      <td>0.001041</td>\n",
       "      <td>0.000393</td>\n",
       "      <td>0.000006</td>\n",
       "      <td>-5.428621e-06</td>\n",
       "      <td>-0.001090</td>\n",
       "      <td>0.001073</td>\n",
       "      <td>0.000381</td>\n",
       "      <td>0.000002</td>\n",
       "      <td>...</td>\n",
       "      <td>0.000074</td>\n",
       "      <td>-0.000043</td>\n",
       "      <td>-0.000040</td>\n",
       "      <td>0.037298</td>\n",
       "      <td>0.005154</td>\n",
       "      <td>0.001067</td>\n",
       "      <td>0.010386</td>\n",
       "      <td>-0.022883</td>\n",
       "      <td>-0.032827</td>\n",
       "      <td>0</td>\n",
       "    </tr>\n",
       "  </tbody>\n",
       "</table>\n",
       "<p>5 rows × 50 columns</p>\n",
       "</div>"
      ],
      "text/plain": [
       "   mean_eeg1  min_eeg1  max_eeg1  std_eeg1  median_eeg1     mean_eeg2  \\\n",
       "0   0.000002 -0.000934  0.000964  0.000328     0.000014  1.886587e-07   \n",
       "1   0.000006 -0.000832  0.001033  0.000349     0.000002  2.871827e-06   \n",
       "2  -0.000002 -0.001041  0.000935  0.000317     0.000002 -2.297048e-06   \n",
       "3   0.000008 -0.001109  0.000829  0.000318     0.000006  2.462336e-06   \n",
       "4  -0.000003 -0.000964  0.001041  0.000393     0.000006 -5.428621e-06   \n",
       "\n",
       "   min_eeg2  max_eeg2  std_eeg2  median_eeg2  ...  corr_max_2_eeg2  \\\n",
       "0 -0.000895  0.000927  0.000312     0.000001  ...         0.000050   \n",
       "1 -0.001220  0.000972  0.000320     0.000003  ...         0.000052   \n",
       "2 -0.000733  0.000928  0.000296    -0.000012  ...         0.000045   \n",
       "3 -0.001177  0.001146  0.000293    -0.000016  ...         0.000044   \n",
       "4 -0.001090  0.001073  0.000381     0.000002  ...         0.000074   \n",
       "\n",
       "   corr_min_2_eeg1  corr_min_2_eeg2  corr1_2_eeg1  corr1_2_eeg2  corr2_2_eeg1  \\\n",
       "0        -0.000033        -0.000027     -0.010201     -0.033260      0.001880   \n",
       "1        -0.000031        -0.000024     -0.011701     -0.003912      0.019401   \n",
       "2        -0.000026        -0.000018      0.014712      0.074491      0.039002   \n",
       "3        -0.000025        -0.000020     -0.013848      0.010276      0.014624   \n",
       "4        -0.000043        -0.000040      0.037298      0.005154      0.001067   \n",
       "\n",
       "   corr2_2_eeg2  corr3_2_eeg1  corr3_2_eeg2  consists_emg_onset  \n",
       "0      0.025034      0.001727     -0.008683                   0  \n",
       "1     -0.009471     -0.009203     -0.000688                   0  \n",
       "2     -0.006610     -0.044213     -0.024358                   0  \n",
       "3     -0.014965      0.006360     -0.010876                   0  \n",
       "4      0.010386     -0.022883     -0.032827                   0  \n",
       "\n",
       "[5 rows x 50 columns]"
      ]
     },
     "execution_count": 102,
     "metadata": {},
     "output_type": "execute_result"
    }
   ],
   "source": [
    "features_test_50.head()"
   ]
  },
  {
   "cell_type": "code",
   "execution_count": 103,
   "metadata": {},
   "outputs": [
    {
     "name": "stdout",
     "output_type": "stream",
     "text": [
      "43200\n",
      "8071\n"
     ]
    }
   ],
   "source": [
    "print(len(features_test_50))\n",
    "print(len(features_test_50[features_test_50['consists_emg_onset'] == 1]))"
   ]
  },
  {
   "cell_type": "code",
   "execution_count": 104,
   "metadata": {},
   "outputs": [],
   "source": [
    "X_sub = features_test_50.to_numpy()"
   ]
  },
  {
   "cell_type": "code",
   "execution_count": 105,
   "metadata": {},
   "outputs": [
    {
     "name": "stdout",
     "output_type": "stream",
     "text": [
      "(43200, 50)\n",
      "(43200, 45)\n"
     ]
    }
   ],
   "source": [
    "print(X_sub.shape)\n",
    "X_sub = thresh.transform(X_sub)\n",
    "X_sub = selection.transform(X_sub)\n",
    "X_sub = scale.transform(X_sub)\n",
    "print(X_sub.shape)"
   ]
  },
  {
   "cell_type": "code",
   "execution_count": 106,
   "metadata": {},
   "outputs": [],
   "source": [
    "submissions = search.predict(X_sub)\n",
    "submissions = submissions+1"
   ]
  },
  {
   "cell_type": "code",
   "execution_count": 107,
   "metadata": {},
   "outputs": [
    {
     "name": "stdout",
     "output_type": "stream",
     "text": [
      "19653\n",
      "21065\n",
      "2482\n"
     ]
    }
   ],
   "source": [
    "print(len(np.where(submissions == 1)[0]))\n",
    "print(len(np.where(submissions == 2)[0]))\n",
    "print(len(np.where(submissions == 3)[0]))"
   ]
  },
  {
   "cell_type": "code",
   "execution_count": 108,
   "metadata": {},
   "outputs": [
    {
     "data": {
      "text/plain": [
       "array([1, 1, 1, ..., 1, 1, 1])"
      ]
     },
     "execution_count": 108,
     "metadata": {},
     "output_type": "execute_result"
    }
   ],
   "source": [
    "submissions"
   ]
  },
  {
   "cell_type": "code",
   "execution_count": 111,
   "metadata": {},
   "outputs": [],
   "source": [
    "sample_df = pd.read_csv('./raw/sample.csv')"
   ]
  },
  {
   "cell_type": "code",
   "execution_count": 115,
   "metadata": {},
   "outputs": [],
   "source": [
    "#submissions = pd.DataFrame(submissions)\n",
    "#submissions.to_csv('./predictions/prediction_init.csv', index_label='Id', header=['y'], compression=None)"
   ]
  },
  {
   "cell_type": "code",
   "execution_count": null,
   "metadata": {},
   "outputs": [],
   "source": []
  },
  {
   "cell_type": "code",
   "execution_count": null,
   "metadata": {},
   "outputs": [],
   "source": []
  },
  {
   "cell_type": "code",
   "execution_count": null,
   "metadata": {},
   "outputs": [],
   "source": []
  },
  {
   "cell_type": "code",
   "execution_count": null,
   "metadata": {},
   "outputs": [],
   "source": []
  },
  {
   "cell_type": "code",
   "execution_count": null,
   "metadata": {},
   "outputs": [],
   "source": []
  },
  {
   "cell_type": "code",
   "execution_count": null,
   "metadata": {},
   "outputs": [],
   "source": []
  },
  {
   "cell_type": "code",
   "execution_count": null,
   "metadata": {},
   "outputs": [],
   "source": []
  },
  {
   "cell_type": "code",
   "execution_count": null,
   "metadata": {},
   "outputs": [],
   "source": []
  },
  {
   "cell_type": "code",
   "execution_count": null,
   "metadata": {},
   "outputs": [],
   "source": []
  },
  {
   "cell_type": "code",
   "execution_count": null,
   "metadata": {},
   "outputs": [],
   "source": []
  },
  {
   "cell_type": "code",
   "execution_count": null,
   "metadata": {},
   "outputs": [],
   "source": []
  },
  {
   "cell_type": "code",
   "execution_count": null,
   "metadata": {},
   "outputs": [],
   "source": []
  },
  {
   "cell_type": "code",
   "execution_count": null,
   "metadata": {},
   "outputs": [],
   "source": []
  },
  {
   "cell_type": "code",
   "execution_count": null,
   "metadata": {},
   "outputs": [],
   "source": []
  },
  {
   "cell_type": "code",
   "execution_count": null,
   "metadata": {},
   "outputs": [],
   "source": []
  },
  {
   "cell_type": "code",
   "execution_count": null,
   "metadata": {},
   "outputs": [],
   "source": []
  },
  {
   "cell_type": "code",
   "execution_count": null,
   "metadata": {},
   "outputs": [],
   "source": []
  },
  {
   "cell_type": "code",
   "execution_count": null,
   "metadata": {},
   "outputs": [],
   "source": []
  }
 ],
 "metadata": {
  "kernelspec": {
   "display_name": "Python 3",
   "language": "python",
   "name": "python3"
  },
  "language_info": {
   "codemirror_mode": {
    "name": "ipython",
    "version": 3
   },
   "file_extension": ".py",
   "mimetype": "text/x-python",
   "name": "python",
   "nbconvert_exporter": "python",
   "pygments_lexer": "ipython3",
   "version": "3.8.5"
  }
 },
 "nbformat": 4,
 "nbformat_minor": 4
}
