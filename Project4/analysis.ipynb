{
 "cells": [
  {
   "cell_type": "markdown",
   "metadata": {},
   "source": [
    "## Project 4\n",
    "In this task we will perform sequence classification. We will categorize temporally coherent and uniformly distributed short sections of a long time-series. In particular, for each 4 seconds of a lengthy EEG/EMG measurement of brain activity recorded during sleep, we will assign one of the 3 classes corresponding to the sleep stage present within the evaluated epoch.\n",
    "\n",
    "Each row in train_{eeg1,eeg2,emg}.csv is a single epoch of the corresponding channel indexed by an id, so the first column contains the id. In addition to the id column, each sample has 512 values corresponding to 4x128, where 4 is the number of seconds per epoch, and 128 is the measurement frequency. Note also that the data contains stacked recordings of three subjects. Each subject has 21600 epochs (24 hours) rendering in total 3x21600=64800 epochs i.e. training data points. Therefore, apart from the \"breaks\" between subjects, neighboring epochs are temporally coherent. The file structure is therefore:"
   ]
  },
  {
   "cell_type": "code",
   "execution_count": 44,
   "metadata": {},
   "outputs": [],
   "source": [
    "import pandas as pd\n",
    "import numpy as np\n",
    "import matplotlib.pyplot as plt\n",
    "import seaborn as sns\n",
    "from scipy.signal import correlate\n",
    "from scipy.fft import fft\n",
    "from statsmodels.tsa.stattools import adfuller"
   ]
  },
  {
   "cell_type": "code",
   "execution_count": 2,
   "metadata": {},
   "outputs": [
    {
     "name": "stdout",
     "output_type": "stream",
     "text": [
      "Shape of data\n",
      "Shape of train_eeg1  (64800, 512)\n",
      "Shape of train_eeg2  (64800, 512)\n",
      "Shape of train_emg  (64800, 512)\n",
      "\n",
      "Head of eeg1\n"
     ]
    },
    {
     "data": {
      "text/html": [
       "<div>\n",
       "<style scoped>\n",
       "    .dataframe tbody tr th:only-of-type {\n",
       "        vertical-align: middle;\n",
       "    }\n",
       "\n",
       "    .dataframe tbody tr th {\n",
       "        vertical-align: top;\n",
       "    }\n",
       "\n",
       "    .dataframe thead th {\n",
       "        text-align: right;\n",
       "    }\n",
       "</style>\n",
       "<table border=\"1\" class=\"dataframe\">\n",
       "  <thead>\n",
       "    <tr style=\"text-align: right;\">\n",
       "      <th></th>\n",
       "      <th>x1</th>\n",
       "      <th>x2</th>\n",
       "      <th>x3</th>\n",
       "      <th>x4</th>\n",
       "      <th>x5</th>\n",
       "      <th>x6</th>\n",
       "      <th>x7</th>\n",
       "      <th>x8</th>\n",
       "      <th>x9</th>\n",
       "      <th>x10</th>\n",
       "      <th>...</th>\n",
       "      <th>x503</th>\n",
       "      <th>x504</th>\n",
       "      <th>x505</th>\n",
       "      <th>x506</th>\n",
       "      <th>x507</th>\n",
       "      <th>x508</th>\n",
       "      <th>x509</th>\n",
       "      <th>x510</th>\n",
       "      <th>x511</th>\n",
       "      <th>x512</th>\n",
       "    </tr>\n",
       "    <tr>\n",
       "      <th>Id</th>\n",
       "      <th></th>\n",
       "      <th></th>\n",
       "      <th></th>\n",
       "      <th></th>\n",
       "      <th></th>\n",
       "      <th></th>\n",
       "      <th></th>\n",
       "      <th></th>\n",
       "      <th></th>\n",
       "      <th></th>\n",
       "      <th></th>\n",
       "      <th></th>\n",
       "      <th></th>\n",
       "      <th></th>\n",
       "      <th></th>\n",
       "      <th></th>\n",
       "      <th></th>\n",
       "      <th></th>\n",
       "      <th></th>\n",
       "      <th></th>\n",
       "      <th></th>\n",
       "    </tr>\n",
       "  </thead>\n",
       "  <tbody>\n",
       "    <tr>\n",
       "      <th>0</th>\n",
       "      <td>0.000400</td>\n",
       "      <td>0.000470</td>\n",
       "      <td>0.000067</td>\n",
       "      <td>-0.00016</td>\n",
       "      <td>-0.000003</td>\n",
       "      <td>0.00031</td>\n",
       "      <td>0.000360</td>\n",
       "      <td>0.00019</td>\n",
       "      <td>-0.000072</td>\n",
       "      <td>-0.00007</td>\n",
       "      <td>...</td>\n",
       "      <td>-0.000086</td>\n",
       "      <td>0.000033</td>\n",
       "      <td>-0.000046</td>\n",
       "      <td>-0.000270</td>\n",
       "      <td>-0.000390</td>\n",
       "      <td>-0.00034</td>\n",
       "      <td>-0.00032</td>\n",
       "      <td>-0.00021</td>\n",
       "      <td>0.000042</td>\n",
       "      <td>0.000053</td>\n",
       "    </tr>\n",
       "    <tr>\n",
       "      <th>1</th>\n",
       "      <td>0.000067</td>\n",
       "      <td>0.000095</td>\n",
       "      <td>0.000270</td>\n",
       "      <td>0.00028</td>\n",
       "      <td>0.000250</td>\n",
       "      <td>0.00012</td>\n",
       "      <td>0.000094</td>\n",
       "      <td>-0.00034</td>\n",
       "      <td>-0.000960</td>\n",
       "      <td>-0.00120</td>\n",
       "      <td>...</td>\n",
       "      <td>0.000046</td>\n",
       "      <td>0.000300</td>\n",
       "      <td>0.000630</td>\n",
       "      <td>0.000710</td>\n",
       "      <td>0.000520</td>\n",
       "      <td>0.00041</td>\n",
       "      <td>0.00066</td>\n",
       "      <td>0.00088</td>\n",
       "      <td>0.000770</td>\n",
       "      <td>0.000410</td>\n",
       "    </tr>\n",
       "    <tr>\n",
       "      <th>2</th>\n",
       "      <td>0.000160</td>\n",
       "      <td>-0.000210</td>\n",
       "      <td>-0.000840</td>\n",
       "      <td>-0.00120</td>\n",
       "      <td>-0.001200</td>\n",
       "      <td>-0.00140</td>\n",
       "      <td>-0.001400</td>\n",
       "      <td>-0.00091</td>\n",
       "      <td>-0.000600</td>\n",
       "      <td>-0.00027</td>\n",
       "      <td>...</td>\n",
       "      <td>-0.000680</td>\n",
       "      <td>-0.000880</td>\n",
       "      <td>-0.001000</td>\n",
       "      <td>-0.000770</td>\n",
       "      <td>-0.000680</td>\n",
       "      <td>-0.00073</td>\n",
       "      <td>-0.00073</td>\n",
       "      <td>-0.00062</td>\n",
       "      <td>-0.000550</td>\n",
       "      <td>-0.000540</td>\n",
       "    </tr>\n",
       "    <tr>\n",
       "      <th>3</th>\n",
       "      <td>-0.000140</td>\n",
       "      <td>0.000260</td>\n",
       "      <td>0.000390</td>\n",
       "      <td>0.00043</td>\n",
       "      <td>0.000280</td>\n",
       "      <td>0.00023</td>\n",
       "      <td>0.000390</td>\n",
       "      <td>0.00022</td>\n",
       "      <td>0.000150</td>\n",
       "      <td>0.00022</td>\n",
       "      <td>...</td>\n",
       "      <td>0.000720</td>\n",
       "      <td>0.000760</td>\n",
       "      <td>0.000380</td>\n",
       "      <td>0.000052</td>\n",
       "      <td>-0.000260</td>\n",
       "      <td>-0.00058</td>\n",
       "      <td>-0.00075</td>\n",
       "      <td>-0.00110</td>\n",
       "      <td>-0.001200</td>\n",
       "      <td>-0.001200</td>\n",
       "    </tr>\n",
       "    <tr>\n",
       "      <th>4</th>\n",
       "      <td>-0.001100</td>\n",
       "      <td>-0.000790</td>\n",
       "      <td>-0.000081</td>\n",
       "      <td>0.00014</td>\n",
       "      <td>0.000200</td>\n",
       "      <td>-0.00014</td>\n",
       "      <td>-0.000430</td>\n",
       "      <td>-0.00053</td>\n",
       "      <td>-0.000580</td>\n",
       "      <td>-0.00041</td>\n",
       "      <td>...</td>\n",
       "      <td>0.000290</td>\n",
       "      <td>0.000600</td>\n",
       "      <td>0.000670</td>\n",
       "      <td>0.000190</td>\n",
       "      <td>-0.000055</td>\n",
       "      <td>-0.00016</td>\n",
       "      <td>-0.00023</td>\n",
       "      <td>-0.00023</td>\n",
       "      <td>-0.000330</td>\n",
       "      <td>-0.000810</td>\n",
       "    </tr>\n",
       "  </tbody>\n",
       "</table>\n",
       "<p>5 rows × 512 columns</p>\n",
       "</div>"
      ],
      "text/plain": [
       "          x1        x2        x3       x4        x5       x6        x7  \\\n",
       "Id                                                                       \n",
       "0   0.000400  0.000470  0.000067 -0.00016 -0.000003  0.00031  0.000360   \n",
       "1   0.000067  0.000095  0.000270  0.00028  0.000250  0.00012  0.000094   \n",
       "2   0.000160 -0.000210 -0.000840 -0.00120 -0.001200 -0.00140 -0.001400   \n",
       "3  -0.000140  0.000260  0.000390  0.00043  0.000280  0.00023  0.000390   \n",
       "4  -0.001100 -0.000790 -0.000081  0.00014  0.000200 -0.00014 -0.000430   \n",
       "\n",
       "         x8        x9      x10  ...      x503      x504      x505      x506  \\\n",
       "Id                              ...                                           \n",
       "0   0.00019 -0.000072 -0.00007  ... -0.000086  0.000033 -0.000046 -0.000270   \n",
       "1  -0.00034 -0.000960 -0.00120  ...  0.000046  0.000300  0.000630  0.000710   \n",
       "2  -0.00091 -0.000600 -0.00027  ... -0.000680 -0.000880 -0.001000 -0.000770   \n",
       "3   0.00022  0.000150  0.00022  ...  0.000720  0.000760  0.000380  0.000052   \n",
       "4  -0.00053 -0.000580 -0.00041  ...  0.000290  0.000600  0.000670  0.000190   \n",
       "\n",
       "        x507     x508     x509     x510      x511      x512  \n",
       "Id                                                           \n",
       "0  -0.000390 -0.00034 -0.00032 -0.00021  0.000042  0.000053  \n",
       "1   0.000520  0.00041  0.00066  0.00088  0.000770  0.000410  \n",
       "2  -0.000680 -0.00073 -0.00073 -0.00062 -0.000550 -0.000540  \n",
       "3  -0.000260 -0.00058 -0.00075 -0.00110 -0.001200 -0.001200  \n",
       "4  -0.000055 -0.00016 -0.00023 -0.00023 -0.000330 -0.000810  \n",
       "\n",
       "[5 rows x 512 columns]"
      ]
     },
     "execution_count": 2,
     "metadata": {},
     "output_type": "execute_result"
    }
   ],
   "source": [
    "train_eeg1 = pd.read_csv('raw/train_eeg1.csv', index_col='Id')\n",
    "train_eeg2 = pd.read_csv('raw/train_eeg2.csv', index_col='Id')\n",
    "train_emg = pd.read_csv('raw/train_emg.csv', index_col='Id')\n",
    "train_labels = pd.read_csv('raw/train_labels.csv', index_col='Id')\n",
    "\n",
    "print('Shape of data')\n",
    "print('Shape of train_eeg1 ', train_eeg1.shape)\n",
    "print('Shape of train_eeg2 ', train_eeg2.shape)\n",
    "print('Shape of train_emg ', train_emg.shape)\n",
    "print()\n",
    "print('Head of eeg1')\n",
    "train_eeg1.head()\n"
   ]
  },
  {
   "cell_type": "code",
   "execution_count": 3,
   "metadata": {},
   "outputs": [
    {
     "data": {
      "text/html": [
       "<div>\n",
       "<style scoped>\n",
       "    .dataframe tbody tr th:only-of-type {\n",
       "        vertical-align: middle;\n",
       "    }\n",
       "\n",
       "    .dataframe tbody tr th {\n",
       "        vertical-align: top;\n",
       "    }\n",
       "\n",
       "    .dataframe thead th {\n",
       "        text-align: right;\n",
       "    }\n",
       "</style>\n",
       "<table border=\"1\" class=\"dataframe\">\n",
       "  <thead>\n",
       "    <tr style=\"text-align: right;\">\n",
       "      <th></th>\n",
       "      <th>x1</th>\n",
       "      <th>x2</th>\n",
       "      <th>x3</th>\n",
       "      <th>x4</th>\n",
       "      <th>x5</th>\n",
       "      <th>x6</th>\n",
       "      <th>x7</th>\n",
       "      <th>x8</th>\n",
       "      <th>x9</th>\n",
       "      <th>x10</th>\n",
       "      <th>...</th>\n",
       "      <th>x503</th>\n",
       "      <th>x504</th>\n",
       "      <th>x505</th>\n",
       "      <th>x506</th>\n",
       "      <th>x507</th>\n",
       "      <th>x508</th>\n",
       "      <th>x509</th>\n",
       "      <th>x510</th>\n",
       "      <th>x511</th>\n",
       "      <th>x512</th>\n",
       "    </tr>\n",
       "    <tr>\n",
       "      <th>Id</th>\n",
       "      <th></th>\n",
       "      <th></th>\n",
       "      <th></th>\n",
       "      <th></th>\n",
       "      <th></th>\n",
       "      <th></th>\n",
       "      <th></th>\n",
       "      <th></th>\n",
       "      <th></th>\n",
       "      <th></th>\n",
       "      <th></th>\n",
       "      <th></th>\n",
       "      <th></th>\n",
       "      <th></th>\n",
       "      <th></th>\n",
       "      <th></th>\n",
       "      <th></th>\n",
       "      <th></th>\n",
       "      <th></th>\n",
       "      <th></th>\n",
       "      <th></th>\n",
       "    </tr>\n",
       "  </thead>\n",
       "  <tbody>\n",
       "    <tr>\n",
       "      <th>0</th>\n",
       "      <td>-0.000024</td>\n",
       "      <td>-0.000018</td>\n",
       "      <td>-0.000014</td>\n",
       "      <td>-0.000017</td>\n",
       "      <td>-0.000012</td>\n",
       "      <td>-0.000007</td>\n",
       "      <td>-0.000004</td>\n",
       "      <td>-0.000009</td>\n",
       "      <td>-0.000060</td>\n",
       "      <td>-0.000031</td>\n",
       "      <td>...</td>\n",
       "      <td>-0.000003</td>\n",
       "      <td>-0.000009</td>\n",
       "      <td>-0.000010</td>\n",
       "      <td>-0.000002</td>\n",
       "      <td>-9.000000e-07</td>\n",
       "      <td>-0.000010</td>\n",
       "      <td>-0.000006</td>\n",
       "      <td>-0.000013</td>\n",
       "      <td>-0.000030</td>\n",
       "      <td>-0.000004</td>\n",
       "    </tr>\n",
       "    <tr>\n",
       "      <th>1</th>\n",
       "      <td>-0.000005</td>\n",
       "      <td>-0.000007</td>\n",
       "      <td>-0.000007</td>\n",
       "      <td>-0.000008</td>\n",
       "      <td>-0.000006</td>\n",
       "      <td>-0.000008</td>\n",
       "      <td>-0.000012</td>\n",
       "      <td>-0.000017</td>\n",
       "      <td>-0.000015</td>\n",
       "      <td>-0.000010</td>\n",
       "      <td>...</td>\n",
       "      <td>-0.000014</td>\n",
       "      <td>-0.000016</td>\n",
       "      <td>-0.000010</td>\n",
       "      <td>-0.000005</td>\n",
       "      <td>-9.200000e-06</td>\n",
       "      <td>-0.000011</td>\n",
       "      <td>-0.000010</td>\n",
       "      <td>-0.000015</td>\n",
       "      <td>0.000006</td>\n",
       "      <td>-0.000006</td>\n",
       "    </tr>\n",
       "    <tr>\n",
       "      <th>2</th>\n",
       "      <td>-0.000013</td>\n",
       "      <td>-0.000013</td>\n",
       "      <td>-0.000008</td>\n",
       "      <td>-0.000014</td>\n",
       "      <td>-0.000005</td>\n",
       "      <td>-0.000008</td>\n",
       "      <td>-0.000011</td>\n",
       "      <td>-0.000007</td>\n",
       "      <td>-0.000008</td>\n",
       "      <td>-0.000008</td>\n",
       "      <td>...</td>\n",
       "      <td>-0.000005</td>\n",
       "      <td>-0.000008</td>\n",
       "      <td>-0.000011</td>\n",
       "      <td>-0.000014</td>\n",
       "      <td>-1.800000e-05</td>\n",
       "      <td>-0.000012</td>\n",
       "      <td>-0.000015</td>\n",
       "      <td>-0.000015</td>\n",
       "      <td>-0.000016</td>\n",
       "      <td>-0.000011</td>\n",
       "    </tr>\n",
       "    <tr>\n",
       "      <th>3</th>\n",
       "      <td>-0.000011</td>\n",
       "      <td>-0.000010</td>\n",
       "      <td>-0.000029</td>\n",
       "      <td>-0.000041</td>\n",
       "      <td>-0.000010</td>\n",
       "      <td>-0.000021</td>\n",
       "      <td>-0.000010</td>\n",
       "      <td>-0.000012</td>\n",
       "      <td>-0.000005</td>\n",
       "      <td>-0.000007</td>\n",
       "      <td>...</td>\n",
       "      <td>0.000019</td>\n",
       "      <td>-0.000012</td>\n",
       "      <td>-0.000009</td>\n",
       "      <td>-0.000011</td>\n",
       "      <td>-6.400000e-06</td>\n",
       "      <td>-0.000012</td>\n",
       "      <td>-0.000008</td>\n",
       "      <td>-0.000007</td>\n",
       "      <td>-0.000003</td>\n",
       "      <td>-0.000014</td>\n",
       "    </tr>\n",
       "    <tr>\n",
       "      <th>4</th>\n",
       "      <td>-0.000011</td>\n",
       "      <td>-0.000014</td>\n",
       "      <td>-0.000010</td>\n",
       "      <td>-0.000011</td>\n",
       "      <td>-0.000004</td>\n",
       "      <td>-0.000051</td>\n",
       "      <td>-0.000029</td>\n",
       "      <td>-0.000002</td>\n",
       "      <td>-0.000011</td>\n",
       "      <td>-0.000013</td>\n",
       "      <td>...</td>\n",
       "      <td>-0.000033</td>\n",
       "      <td>-0.000005</td>\n",
       "      <td>-0.000008</td>\n",
       "      <td>-0.000011</td>\n",
       "      <td>-1.200000e-05</td>\n",
       "      <td>-0.000008</td>\n",
       "      <td>-0.000008</td>\n",
       "      <td>-0.000007</td>\n",
       "      <td>-0.000011</td>\n",
       "      <td>-0.000007</td>\n",
       "    </tr>\n",
       "  </tbody>\n",
       "</table>\n",
       "<p>5 rows × 512 columns</p>\n",
       "</div>"
      ],
      "text/plain": [
       "          x1        x2        x3        x4        x5        x6        x7  \\\n",
       "Id                                                                         \n",
       "0  -0.000024 -0.000018 -0.000014 -0.000017 -0.000012 -0.000007 -0.000004   \n",
       "1  -0.000005 -0.000007 -0.000007 -0.000008 -0.000006 -0.000008 -0.000012   \n",
       "2  -0.000013 -0.000013 -0.000008 -0.000014 -0.000005 -0.000008 -0.000011   \n",
       "3  -0.000011 -0.000010 -0.000029 -0.000041 -0.000010 -0.000021 -0.000010   \n",
       "4  -0.000011 -0.000014 -0.000010 -0.000011 -0.000004 -0.000051 -0.000029   \n",
       "\n",
       "          x8        x9       x10  ...      x503      x504      x505      x506  \\\n",
       "Id                                ...                                           \n",
       "0  -0.000009 -0.000060 -0.000031  ... -0.000003 -0.000009 -0.000010 -0.000002   \n",
       "1  -0.000017 -0.000015 -0.000010  ... -0.000014 -0.000016 -0.000010 -0.000005   \n",
       "2  -0.000007 -0.000008 -0.000008  ... -0.000005 -0.000008 -0.000011 -0.000014   \n",
       "3  -0.000012 -0.000005 -0.000007  ...  0.000019 -0.000012 -0.000009 -0.000011   \n",
       "4  -0.000002 -0.000011 -0.000013  ... -0.000033 -0.000005 -0.000008 -0.000011   \n",
       "\n",
       "            x507      x508      x509      x510      x511      x512  \n",
       "Id                                                                  \n",
       "0  -9.000000e-07 -0.000010 -0.000006 -0.000013 -0.000030 -0.000004  \n",
       "1  -9.200000e-06 -0.000011 -0.000010 -0.000015  0.000006 -0.000006  \n",
       "2  -1.800000e-05 -0.000012 -0.000015 -0.000015 -0.000016 -0.000011  \n",
       "3  -6.400000e-06 -0.000012 -0.000008 -0.000007 -0.000003 -0.000014  \n",
       "4  -1.200000e-05 -0.000008 -0.000008 -0.000007 -0.000011 -0.000007  \n",
       "\n",
       "[5 rows x 512 columns]"
      ]
     },
     "execution_count": 3,
     "metadata": {},
     "output_type": "execute_result"
    }
   ],
   "source": [
    "train_emg.head()"
   ]
  },
  {
   "cell_type": "code",
   "execution_count": 4,
   "metadata": {},
   "outputs": [
    {
     "name": "stdout",
     "output_type": "stream",
     "text": [
      "False\n",
      "False\n",
      "False\n"
     ]
    }
   ],
   "source": [
    "#missing data\n",
    "print(train_eeg1.isna().values.any())\n",
    "print(train_eeg2.isna().values.any())\n",
    "print(train_emg.isna().values.any())\n",
    "\n",
    "#total = train_eeg1.isnull().sum().sort_values(ascending=False)\n",
    "#percent = (train_eeg1.isnull().sum()/train_eeg1.isnull().count()).sort_values(ascending=False)\n",
    "#missing_data = pd.concat([total, percent], axis=1, keys=['Total', 'Percent'])\n",
    "#missing_data.head(20)"
   ]
  },
  {
   "cell_type": "code",
   "execution_count": 34,
   "metadata": {
    "scrolled": true
   },
   "outputs": [
    {
     "data": {
      "application/vnd.jupyter.widget-view+json": {
       "model_id": "7e93b0b80df24dde91d1a84fdaca571a",
       "version_major": 2,
       "version_minor": 0
      },
      "text/plain": [
       "Canvas(toolbar=Toolbar(toolitems=[('Home', 'Reset original view', 'home', 'home'), ('Back', 'Back to previous …"
      ]
     },
     "metadata": {},
     "output_type": "display_data"
    }
   ],
   "source": [
    "###Install this and restart from terminal\n",
    "#conda install -y nodejs\n",
    "#pip install --upgrade jupyterlab\n",
    "#jupyter labextension install @jupyter-widgets/jupyterlab-manager\n",
    "#jupyter labextension install jupyter-matplotlib\n",
    "#jupyter nbextension enable --py widgetsnbextension\n",
    "\n",
    "%matplotlib widget\n",
    "\n",
    "train_eeg1.iloc[1].plot()\n",
    "train_eeg2.iloc[1].plot()\n",
    "train_emg.iloc[1].plot()\n",
    "plt.legend(['eeg1', 'eeg2', 'emg'])\n",
    "plt.show()"
   ]
  },
  {
   "cell_type": "code",
   "execution_count": 45,
   "metadata": {},
   "outputs": [
    {
     "name": "stdout",
     "output_type": "stream",
     "text": [
      "Results of Dickey-Fuller Test:\n",
      "Test Statistic                -8.793585e+00\n",
      "p-value                        2.206874e-14\n",
      "#Lags Used                     5.000000e+00\n",
      "Number of Observations Used    5.060000e+02\n",
      "Critical Value (1%)           -3.443340e+00\n",
      "Critical Value (5%)           -2.867269e+00\n",
      "Critical Value (10%)          -2.569821e+00\n",
      "dtype: float64\n"
     ]
    }
   ],
   "source": [
    "#Function to check the stationarity of the time serie using Dickey fuller test\n",
    "def stationarity(ts):\n",
    "    print('Results of Dickey-Fuller Test:')\n",
    "    test = adfuller(ts, autolag='AIC')\n",
    "    results = pd.Series(test[0:4], index=['Test Statistic','p-value','#Lags Used','Number of Observations Used'])\n",
    "    for i,val in test[4].items():\n",
    "        results['Critical Value (%s)'%i] = val\n",
    "    print (results)\n",
    "\n",
    "stationarity(train_eeg1.iloc[1])\n",
    "#https://machinelearningmastery.com/time-series-data-stationary-python/"
   ]
  },
  {
   "cell_type": "code",
   "execution_count": 31,
   "metadata": {},
   "outputs": [
    {
     "data": {
      "application/vnd.jupyter.widget-view+json": {
       "model_id": "8da14ed6d99a4b2b92cad3a87b679440",
       "version_major": 2,
       "version_minor": 0
      },
      "text/plain": [
       "Canvas(toolbar=Toolbar(toolitems=[('Home', 'Reset original view', 'home', 'home'), ('Back', 'Back to previous …"
      ]
     },
     "metadata": {},
     "output_type": "display_data"
    }
   ],
   "source": [
    "def autocorr(x):\n",
    "    return np.correlate(x, x, mode='same')\n",
    "%matplotlib widget\n",
    "\n",
    "#Data looks kind of periodic, try autcorrelation\n",
    "plt.plot(autocorr(train_eeg1.iloc[1]))\n",
    "plt.title('Autocorrelation EEG Canal1')\n",
    "plt.show()"
   ]
  },
  {
   "cell_type": "markdown",
   "metadata": {},
   "source": [
    "How about cross correlation"
   ]
  },
  {
   "cell_type": "code",
   "execution_count": 29,
   "metadata": {},
   "outputs": [
    {
     "data": {
      "application/vnd.jupyter.widget-view+json": {
       "model_id": "fdbc78f61f4841c8b11140e629f9b2a8",
       "version_major": 2,
       "version_minor": 0
      },
      "text/plain": [
       "Canvas(toolbar=Toolbar(toolitems=[('Home', 'Reset original view', 'home', 'home'), ('Back', 'Back to previous …"
      ]
     },
     "metadata": {},
     "output_type": "display_data"
    }
   ],
   "source": [
    "%matplotlib widget\n",
    "plt.plot(correlate(train_eeg2.iloc[1], train_eeg1.iloc[1]))\n",
    "plt.title('Cross correlation EEG Canals')\n",
    "plt.show()"
   ]
  },
  {
   "cell_type": "code",
   "execution_count": 43,
   "metadata": {},
   "outputs": [
    {
     "name": "stdout",
     "output_type": "stream",
     "text": [
      "Sampling Frequency 128.0 Hz\n"
     ]
    },
    {
     "data": {
      "application/vnd.jupyter.widget-view+json": {
       "model_id": "c787566618634d1d83e1e09687715aca",
       "version_major": 2,
       "version_minor": 0
      },
      "text/plain": [
       "Canvas(toolbar=Toolbar(toolitems=[('Home', 'Reset original view', 'home', 'home'), ('Back', 'Back to previous …"
      ]
     },
     "metadata": {},
     "output_type": "display_data"
    }
   ],
   "source": [
    "%matplotlib widget\n",
    "eeg1f = fft(train_eeg1.iloc[1].values)\n",
    "N = train_eeg1.shape[1]\n",
    "T = 4/N\n",
    "print('Sampling Frequency', 1/T, 'Hz')\n",
    "xf = np.linspace(0.0, 1.0/(2.0*T), N//2)\n",
    "plt.plot(xf, 2.0/N * np.abs(eeg1f[0:N//2]))\n",
    "plt.grid()\n",
    "plt.show()"
   ]
  },
  {
   "cell_type": "markdown",
   "metadata": {},
   "source": [
    "We can lowpass this bitch with cutoff at about 50Hz to get smoother signal"
   ]
  },
  {
   "cell_type": "code",
   "execution_count": null,
   "metadata": {},
   "outputs": [],
   "source": []
  }
 ],
 "metadata": {
  "kernelspec": {
   "display_name": "Python 3",
   "language": "python",
   "name": "python3"
  },
  "language_info": {
   "codemirror_mode": {
    "name": "ipython",
    "version": 3
   },
   "file_extension": ".py",
   "mimetype": "text/x-python",
   "name": "python",
   "nbconvert_exporter": "python",
   "pygments_lexer": "ipython3",
   "version": "3.7.4"
  },
  "widgets": {
   "application/vnd.jupyter.widget-state+json": {
    "state": {
     "1028d27093194d5ebf4f8cc265cbfe74": {
      "model_module": "@jupyter-widgets/base",
      "model_module_version": "1.2.0",
      "model_name": "LayoutModel",
      "state": {}
     },
     "32ba6cc8a4df481883923f8a7f2d88e6": {
      "model_module": "@jupyter-widgets/base",
      "model_module_version": "1.2.0",
      "model_name": "LayoutModel",
      "state": {}
     },
     "423584a8578d4471b8d1a55298f5ee2f": {
      "model_module": "jupyter-matplotlib",
      "model_module_version": "^0.7.4",
      "model_name": "ToolbarModel",
      "state": {
       "_current_action": "pan",
       "layout": "IPY_MODEL_1028d27093194d5ebf4f8cc265cbfe74",
       "toolitems": [
        [
         "Home",
         "Reset original view",
         "home",
         "home"
        ],
        [
         "Back",
         "Back to previous view",
         "arrow-left",
         "back"
        ],
        [
         "Forward",
         "Forward to next view",
         "arrow-right",
         "forward"
        ],
        [
         "Pan",
         "Left button pans, Right button zooms\nx/y fixes axis, CTRL fixes aspect",
         "arrows",
         "pan"
        ],
        [
         "Zoom",
         "Zoom to rectangle\nx/y fixes axis, CTRL fixes aspect",
         "square-o",
         "zoom"
        ],
        [
         "Download",
         "Download plot",
         "floppy-o",
         "save_figure"
        ]
       ]
      }
     },
     "bf64a0a5ce9442b0899ac99b2647c8d0": {
      "model_module": "jupyter-matplotlib",
      "model_module_version": "^0.7.4",
      "model_name": "MPLCanvasModel",
      "state": {
       "_cursor": "default",
       "_figure_label": "Figure 1",
       "_height": 480,
       "_image_mode": "diff",
       "_message": "pan/zoom",
       "_rubberband_y": 480,
       "_width": 640,
       "layout": "IPY_MODEL_32ba6cc8a4df481883923f8a7f2d88e6",
       "toolbar": "IPY_MODEL_423584a8578d4471b8d1a55298f5ee2f",
       "toolbar_position": "left"
      }
     }
    },
    "version_major": 2,
    "version_minor": 0
   }
  }
 },
 "nbformat": 4,
 "nbformat_minor": 4
}
